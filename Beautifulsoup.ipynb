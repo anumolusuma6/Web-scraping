{
 "cells": [
  {
   "cell_type": "code",
   "execution_count": 1,
   "metadata": {},
   "outputs": [],
   "source": [
    "import requests                 # To download the html data from a site\n",
    "from bs4 import BeautifulSoup   # To parse the html data\n",
    "import time                     # To add a delay between each requests\n",
    "import pandas as pd             # To store our data in a DataFrame"
   ]
  },
  {
   "cell_type": "code",
   "execution_count": 2,
   "metadata": {},
   "outputs": [],
   "source": [
    "url = \"https://trace.tennessee.edu/utk_graddiss/index.html\""
   ]
  },
  {
   "cell_type": "code",
   "execution_count": 3,
   "metadata": {},
   "outputs": [],
   "source": [
    "r = requests.get(url)"
   ]
  },
  {
   "cell_type": "code",
   "execution_count": 4,
   "metadata": {},
   "outputs": [
    {
     "data": {
      "text/plain": [
       "<Response [200]>"
      ]
     },
     "execution_count": 4,
     "metadata": {},
     "output_type": "execute_result"
    }
   ],
   "source": [
    "r\n"
   ]
  },
  {
   "cell_type": "code",
   "execution_count": 5,
   "metadata": {},
   "outputs": [
    {
     "name": "stdout",
     "output_type": "stream",
     "text": [
      "\n",
      "<!DOCTYPE html>\n",
      "<html lang=\"en\">\n",
      "<head><!-- inj yui3-seed: --><script type='text/javascript' src='//cdnjs.cloudflare.com/ajax/libs/yui/3.6.0/yui/yui-min.js'></script><script type='text/javascript' sr\n"
     ]
    }
   ],
   "source": [
    "print(r.text[:200])"
   ]
  },
  {
   "cell_type": "code",
   "execution_count": 6,
   "metadata": {},
   "outputs": [],
   "source": [
    "mainpage = BeautifulSoup(r.text, \"html.parser\")"
   ]
  },
  {
   "cell_type": "code",
   "execution_count": 7,
   "metadata": {},
   "outputs": [
    {
     "name": "stdout",
     "output_type": "stream",
     "text": [
      "<!DOCTYPE html>\n",
      "<html lang=\"en\">\n",
      " <head>\n",
      "  <!-- inj yui3-seed: -->\n",
      "  <script src=\"//cdnjs.cloudflare.com/ajax/libs/yui/3.6.0/yui/yui-min.js\" type=\"text/javascript\">\n",
      "  </script>\n",
      "  <script src=\"//ajax.g\n"
     ]
    }
   ],
   "source": [
    "#prettify to make things easy for the beautiful soup can work with\n",
    "print(mainpage.prettify()[:200])"
   ]
  },
  {
   "cell_type": "code",
   "execution_count": 8,
   "metadata": {},
   "outputs": [
    {
     "data": {
      "text/plain": [
       "<title>\n",
       "Doctoral Dissertations | Graduate School | University of Tennessee, Knoxville\n",
       "</title>"
      ]
     },
     "execution_count": 8,
     "metadata": {},
     "output_type": "execute_result"
    }
   ],
   "source": [
    "mainpage.title"
   ]
  },
  {
   "cell_type": "code",
   "execution_count": 10,
   "metadata": {},
   "outputs": [
    {
     "data": {
      "text/plain": [
       "<function str.title()>"
      ]
     },
     "execution_count": 10,
     "metadata": {},
     "output_type": "execute_result"
    }
   ],
   "source": [
    "r.text.title"
   ]
  },
  {
   "cell_type": "code",
   "execution_count": 11,
   "metadata": {},
   "outputs": [
    {
     "data": {
      "text/plain": [
       "<a data-scroll=\"\" href=\"https://trace.tennessee.edu\" title=\"Home\">Home</a>"
      ]
     },
     "execution_count": 11,
     "metadata": {},
     "output_type": "execute_result"
    }
   ],
   "source": [
    "mainpage.a"
   ]
  },
  {
   "cell_type": "code",
   "execution_count": 12,
   "metadata": {},
   "outputs": [
    {
     "data": {
      "text/plain": [
       "<a data-scroll=\"\" href=\"https://trace.tennessee.edu\" title=\"Home\">Home</a>"
      ]
     },
     "execution_count": 12,
     "metadata": {},
     "output_type": "execute_result"
    }
   ],
   "source": [
    "mainpage.find(\"a\")"
   ]
  },
  {
   "cell_type": "code",
   "execution_count": 13,
   "metadata": {},
   "outputs": [
    {
     "data": {
      "text/plain": [
       "[<a data-scroll=\"\" href=\"https://trace.tennessee.edu\" title=\"Home\">Home</a>,\n",
       " <a data-scroll=\"\" href=\"https://trace.tennessee.edu/do/search/advanced/\" title=\"Search\"><i class=\"icon-search\"></i> Search</a>,\n",
       " <a data-scroll=\"\" href=\"https://trace.tennessee.edu/communities.html\" title=\"Browse\">Browse Collections</a>,\n",
       " <a data-scroll=\"\" href=\"/cgi/myaccount.cgi?context=utk_graddiss\" title=\"My Account\">My Account</a>,\n",
       " <a data-scroll=\"\" href=\"https://trace.tennessee.edu/about.html\" title=\"About\">About</a>,\n",
       " <a data-scroll=\"\" href=\"https://network.bepress.com\" title=\"Digital Commons Network\"><img alt=\"DC Network\" height=\"16\" src=\"/assets/md5images/8e240588cf8cd3a028768d4294acd7d3.png\" style=\"vertical-align:top;\" width=\"16\"/> Digital Commons Network™</a>,\n",
       " <a accesskey=\"2\" class=\"skiplink\" href=\"#main\">Skip to main content</a>,\n",
       " <a href=\"https://trace.tennessee.edu\" id=\"banner_link\" title=\"TRACE: Tennessee Research and Creative Exchange\">\n",
       " <img alt=\"TRACE: Tennessee Research and Creative Exchange\" height=\"148\" id=\"banner_image\" src=\"/assets/md5images/b9c6952f38f1ea9e29770c0766fb8d17.png\" width=\"980\"/>\n",
       " </a>,\n",
       " <a href=\"http://www.utk.edu/\" id=\"logo_link\" title=\"University of Tennessee, Knoxville\">\n",
       " <img alt=\"University of Tennessee, Knoxville\" height=\"148\" id=\"logo_image\" src=\"/assets/md5images/e436ec077ab32796a3879c038af10b98.png\" width=\"240\"/>\n",
       " </a>,\n",
       " <a href=\"https://trace.tennessee.edu\" title=\"TRACE Home\"><span>\n",
       "             TRACE Home\n",
       "           </span></a>,\n",
       " <a class=\"ignore\" href=\"https://trace.tennessee.edu\">Home</a>,\n",
       " <a class=\"ignore\" href=\"https://trace.tennessee.edu/utk-coll\">Colleges &amp; Schools</a>,\n",
       " <a class=\"ignore\" href=\"https://trace.tennessee.edu/utk-grad\">Graduate School</a>,\n",
       " <a aria-current=\"page\" class=\"ignore\" href=\"https://trace.tennessee.edu/utk_graddiss\">Doctoral Dissertations</a>,\n",
       " <a href=\"https://trace.tennessee.edu/utk_graddiss\">Doctoral Dissertations</a>,\n",
       " <a class=\"btn followable\" data-follow-set=\"publication:M2FiNzYwNTVhZjM0ZDJjNg==\" href=\"https://network.bepress.com/api/follow/subscribe?publication=M2FiNzYwNTVhZjM0ZDJjNg%3D%3D&amp;format=html\" rel=\"nofollow\" title=\"Follow Doctoral Dissertations\">Follow</a>,\n",
       " <a aria-label=\"Download PDF of Stability of Quantum Computers (11.3 MB)\" href=\"https://trace.tennessee.edu/cgi/viewcontent.cgi?article=9786&amp;context=utk_graddiss\" target=\"_blank\" title=\"Download PDF of Stability of Quantum Computers (11.3 MB)\">PDF</a>,\n",
       " <a href=\"https://trace.tennessee.edu/utk_graddiss/8681\">Stability of Quantum Computers</a>,\n",
       " <a aria-label=\"Download PDF of Understanding host-microbe interactions in maize kernel and sweetpotato leaf metagenomic profiles. (7.1 MB)\" href=\"https://trace.tennessee.edu/cgi/viewcontent.cgi?article=9485&amp;context=utk_graddiss\" target=\"_blank\" title=\"Download PDF of Understanding host-microbe interactions in maize kernel and sweetpotato leaf metagenomic profiles. (7.1 MB)\">PDF</a>,\n",
       " <a href=\"https://trace.tennessee.edu/utk_graddiss/8076\">Understanding host-microbe interactions in maize kernel and sweetpotato leaf metagenomic profiles.</a>,\n",
       " <a aria-label=\"Download PDF of FABRICATION, MEASUREMENTS, AND MODELING OF SEMICONDUCTOR RADIATION DETECTORS FOR IMAGING AND DETECTOR RESPONSE FUNCTIONS (6.0 MB)\" href=\"https://trace.tennessee.edu/cgi/viewcontent.cgi?article=9445&amp;context=utk_graddiss\" target=\"_blank\" title=\"Download PDF of FABRICATION, MEASUREMENTS, AND MODELING OF SEMICONDUCTOR RADIATION DETECTORS FOR IMAGING AND DETECTOR RESPONSE FUNCTIONS (6.0 MB)\">PDF</a>,\n",
       " <a href=\"https://trace.tennessee.edu/utk_graddiss/8080\">FABRICATION, MEASUREMENTS, AND MODELING OF SEMICONDUCTOR RADIATION DETECTORS FOR IMAGING AND DETECTOR RESPONSE FUNCTIONS</a>,\n",
       " <a aria-label=\"Download PDF of Development and Characterization of Stable Low-cost Salt Hydrate-based Phase Change Materials for Thermal Energy Storage Applications (5.4 MB)\" href=\"https://trace.tennessee.edu/cgi/viewcontent.cgi?article=9350&amp;context=utk_graddiss\" target=\"_blank\" title=\"Download PDF of Development and Characterization of Stable Low-cost Salt Hydrate-based Phase Change Materials for Thermal Energy Storage Applications (5.4 MB)\">PDF</a>,\n",
       " <a href=\"https://trace.tennessee.edu/utk_graddiss/8086\">Development and Characterization of Stable Low-cost Salt Hydrate-based Phase Change Materials for Thermal Energy Storage Applications</a>,\n",
       " <a aria-label=\"Download PDF of The Light from Pisgah (2.0 MB)\" href=\"https://trace.tennessee.edu/cgi/viewcontent.cgi?article=9474&amp;context=utk_graddiss\" target=\"_blank\" title=\"Download PDF of The Light from Pisgah (2.0 MB)\">PDF</a>,\n",
       " <a href=\"https://trace.tennessee.edu/utk_graddiss/8078\">The Light from Pisgah</a>,\n",
       " <a aria-label=\"Download PDF of Clickable Lipid Precursors as Chemical Tools for Imaging and Tracking Lipids (12.4 MB)\" href=\"https://trace.tennessee.edu/cgi/viewcontent.cgi?article=9864&amp;context=utk_graddiss\" target=\"_blank\" title=\"Download PDF of Clickable Lipid Precursors as Chemical Tools for Imaging and Tracking Lipids (12.4 MB)\">PDF</a>,\n",
       " <a href=\"https://trace.tennessee.edu/utk_graddiss/8584\">Clickable Lipid Precursors as Chemical Tools for Imaging and Tracking Lipids</a>,\n",
       " <a aria-label=\"Download PDF of Retinoic Acid, Insulin, and Cycloheximide Alter  Glycogen Homeostasis in Differentiating L6  Myoblasts (3.9 MB)\" href=\"https://trace.tennessee.edu/cgi/viewcontent.cgi?article=9508&amp;context=utk_graddiss\" target=\"_blank\" title=\"Download PDF of Retinoic Acid, Insulin, and Cycloheximide Alter  Glycogen Homeostasis in Differentiating L6  Myoblasts (3.9 MB)\">PDF</a>,\n",
       " <a href=\"https://trace.tennessee.edu/utk_graddiss/8703\">Retinoic Acid, Insulin, and Cycloheximide Alter  Glycogen Homeostasis in Differentiating L6  Myoblasts</a>,\n",
       " <a aria-label=\"Download PDF of Defining Systemic Change in School Counseling: A Delphi Study (905 KB)\" href=\"https://trace.tennessee.edu/cgi/viewcontent.cgi?article=9306&amp;context=utk_graddiss\" target=\"_blank\" title=\"Download PDF of Defining Systemic Change in School Counseling: A Delphi Study (905 KB)\">PDF</a>,\n",
       " <a href=\"https://trace.tennessee.edu/utk_graddiss/8734\">Defining Systemic Change in School Counseling: A Delphi Study</a>,\n",
       " <a aria-label=\"Download PDF of Investigating the Electrochemical Performance of Biphenyl-Sodium Polysulfide Organic Redox Flow Batteries (3.8 MB)\" href=\"https://trace.tennessee.edu/cgi/viewcontent.cgi?article=9713&amp;context=utk_graddiss\" target=\"_blank\" title=\"Download PDF of Investigating the Electrochemical Performance of Biphenyl-Sodium Polysulfide Organic Redox Flow Batteries (3.8 MB)\">PDF</a>,\n",
       " <a href=\"https://trace.tennessee.edu/utk_graddiss/8073\">Investigating the Electrochemical Performance of Biphenyl-Sodium Polysulfide Organic Redox Flow Batteries</a>,\n",
       " <a aria-label=\"Download PDF of The Disparate Effects of Non-Reliance Restatements on Retail and Institutional Investor Trading (1.3 MB)\" href=\"https://trace.tennessee.edu/cgi/viewcontent.cgi?article=9279&amp;context=utk_graddiss\" target=\"_blank\" title=\"Download PDF of The Disparate Effects of Non-Reliance Restatements on Retail and Institutional Investor Trading (1.3 MB)\">PDF</a>,\n",
       " <a href=\"https://trace.tennessee.edu/utk_graddiss/8088\">The Disparate Effects of Non-Reliance Restatements on Retail and Institutional Investor Trading</a>,\n",
       " <a aria-label=\"Download PDF of A HIERARCHICAL PEOPLE-CENTRIC OPERATIONAL EXCELLENCE PERFORMANCE MEASUREMENT SYSTEM TO CREATE AN INTELLIGENT DECISION-MAKING PROCESS IN MANUFACTURING INDUSTRIES (8.3 MB)\" href=\"https://trace.tennessee.edu/cgi/viewcontent.cgi?article=9483&amp;context=utk_graddiss\" target=\"_blank\" title=\"Download PDF of A HIERARCHICAL PEOPLE-CENTRIC OPERATIONAL EXCELLENCE PERFORMANCE MEASUREMENT SYSTEM TO CREATE AN INTELLIGENT DECISION-MAKING PROCESS IN MANUFACTURING INDUSTRIES (8.3 MB)\">PDF</a>,\n",
       " <a href=\"https://trace.tennessee.edu/utk_graddiss/8077\">A HIERARCHICAL PEOPLE-CENTRIC OPERATIONAL EXCELLENCE PERFORMANCE MEASUREMENT SYSTEM TO CREATE AN INTELLIGENT DECISION-MAKING PROCESS IN MANUFACTURING INDUSTRIES</a>,\n",
       " <a aria-label=\"Download PDF of Nurse Staffing and Staff Nurse Involvement in Hospital Staffing Governance: Explorations of Policy and Practice (910 KB)\" href=\"https://trace.tennessee.edu/cgi/viewcontent.cgi?article=8898&amp;context=utk_graddiss\" target=\"_blank\" title=\"Download PDF of Nurse Staffing and Staff Nurse Involvement in Hospital Staffing Governance: Explorations of Policy and Practice (910 KB)\">PDF</a>,\n",
       " <a href=\"https://trace.tennessee.edu/utk_graddiss/8094\">Nurse Staffing and Staff Nurse Involvement in Hospital Staffing Governance: Explorations of Policy and Practice</a>,\n",
       " <a aria-label=\"Download PDF of Ruinous Natures: The Approach of Social Timespace (2.8 MB)\" href=\"https://trace.tennessee.edu/cgi/viewcontent.cgi?article=9454&amp;context=utk_graddiss\" target=\"_blank\" title=\"Download PDF of Ruinous Natures: The Approach of Social Timespace (2.8 MB)\">PDF</a>,\n",
       " <a href=\"https://trace.tennessee.edu/utk_graddiss/8714\">Ruinous Natures: The Approach of Social Timespace</a>,\n",
       " <a aria-label=\"Download PDF of Implementing the Color Wheel System to Improve Individual Student Behavior and Reduce Repeated Teacher Directions (2.7 MB)\" href=\"https://trace.tennessee.edu/cgi/viewcontent.cgi?article=8927&amp;context=utk_graddiss\" target=\"_blank\" title=\"Download PDF of Implementing the Color Wheel System to Improve Individual Student Behavior and Reduce Repeated Teacher Directions (2.7 MB)\">PDF</a>,\n",
       " <a href=\"https://trace.tennessee.edu/utk_graddiss/8737\">Implementing the Color Wheel System to Improve Individual Student Behavior and Reduce Repeated Teacher Directions</a>,\n",
       " <a aria-label=\"Download PDF of Riding the Wave: How Entrepreneurs Respond to Social Movements’ Indirect Spillover Effects (1.6 MB)\" href=\"https://trace.tennessee.edu/cgi/viewcontent.cgi?article=9511&amp;context=utk_graddiss\" target=\"_blank\" title=\"Download PDF of Riding the Wave: How Entrepreneurs Respond to Social Movements’ Indirect Spillover Effects (1.6 MB)\">PDF</a>,\n",
       " <a href=\"https://trace.tennessee.edu/utk_graddiss/8074\">Riding the Wave: How Entrepreneurs Respond to Social Movements’ Indirect Spillover Effects</a>,\n",
       " <a aria-label=\"Download PDF of Explicit Constructions of Canonical and Absolute Minimal Degree Lifts of Twisted Edwards Curves (673 KB)\" href=\"https://trace.tennessee.edu/cgi/viewcontent.cgi?article=9354&amp;context=utk_graddiss\" target=\"_blank\" title=\"Download PDF of Explicit Constructions of Canonical and Absolute Minimal Degree Lifts of Twisted Edwards Curves (673 KB)\">PDF</a>,\n",
       " <a href=\"https://trace.tennessee.edu/utk_graddiss/8085\">Explicit Constructions of Canonical and Absolute Minimal Degree Lifts of Twisted Edwards Curves</a>,\n",
       " <a aria-label=\"Download PDF of Translational Models for Advancement of Regenerative Medicine and Tissue Engineering (5.4 MB)\" href=\"https://trace.tennessee.edu/cgi/viewcontent.cgi?article=9405&amp;context=utk_graddiss\" target=\"_blank\" title=\"Download PDF of Translational Models for Advancement of Regenerative Medicine and Tissue Engineering (5.4 MB)\">PDF</a>,\n",
       " <a href=\"https://trace.tennessee.edu/utk_graddiss/8082\">Translational Models for Advancement of Regenerative Medicine and Tissue Engineering</a>,\n",
       " <a aria-label=\"Download PDF of “EVERY DOLLAR COUNTS”: AN EXPLORATION OF THE EXPERIENCES OF STUDENTS PERSISTING IN A FOUR-YEAR, INSTITUTIONAL PROMISE PROGRAM (1.4 MB)\" href=\"https://trace.tennessee.edu/cgi/viewcontent.cgi?article=9515&amp;context=utk_graddiss\" target=\"_blank\" title=\"Download PDF of “EVERY DOLLAR COUNTS”: AN EXPLORATION OF THE EXPERIENCES OF STUDENTS PERSISTING IN A FOUR-YEAR, INSTITUTIONAL PROMISE PROGRAM (1.4 MB)\">PDF</a>,\n",
       " <a href=\"https://trace.tennessee.edu/utk_graddiss/8701\">“EVERY DOLLAR COUNTS”: AN EXPLORATION OF THE EXPERIENCES OF STUDENTS PERSISTING IN A FOUR-YEAR, INSTITUTIONAL PROMISE PROGRAM</a>,\n",
       " <a aria-label=\"Download PDF of &quot;You're Not Thriving, You're Just Trying to Survive the Environment that You're In:&quot; Mental Performance Consultants' Narratives of Emotional Abuse in Sport (4.0 MB)\" href=\"https://trace.tennessee.edu/cgi/viewcontent.cgi?article=9495&amp;context=utk_graddiss\" target=\"_blank\" title=\"Download PDF of &quot;You're Not Thriving, You're Just Trying to Survive the Environment that You're In:&quot; Mental Performance Consultants' Narratives of Emotional Abuse in Sport (4.0 MB)\">PDF</a>,\n",
       " <a href=\"https://trace.tennessee.edu/utk_graddiss/8706\">\"You're Not Thriving, You're Just Trying to Survive the Environment that You're In:\" Mental Performance Consultants' Narratives of Emotional Abuse in Sport</a>,\n",
       " <a aria-label=\"Download PDF of The Synthesis and Optimization of Sulfide and Halide Solid Electrolytes for All Solid-State Batteries (6.9 MB)\" href=\"https://trace.tennessee.edu/cgi/viewcontent.cgi?article=9518&amp;context=utk_graddiss\" target=\"_blank\" title=\"Download PDF of The Synthesis and Optimization of Sulfide and Halide Solid Electrolytes for All Solid-State Batteries (6.9 MB)\">PDF</a>,\n",
       " <a href=\"https://trace.tennessee.edu/utk_graddiss/8700\">The Synthesis and Optimization of Sulfide and Halide Solid Electrolytes for All Solid-State Batteries</a>,\n",
       " <a aria-label=\"Download PDF of POPULATION ABUNDANCE AND GROWTH OF ELK (CERVUS CANADENSIS) IN WESTERN NORTH CAROLINA (3.3 MB)\" href=\"https://trace.tennessee.edu/cgi/viewcontent.cgi?article=9499&amp;context=utk_graddiss\" target=\"_blank\" title=\"Download PDF of POPULATION ABUNDANCE AND GROWTH OF ELK (CERVUS CANADENSIS) IN WESTERN NORTH CAROLINA (3.3 MB)\">PDF</a>,\n",
       " <a href=\"https://trace.tennessee.edu/utk_graddiss/8705\">POPULATION ABUNDANCE AND GROWTH OF ELK (CERVUS CANADENSIS) IN WESTERN NORTH CAROLINA</a>,\n",
       " <a aria-label=\"Download PDF of Multiple Objective Co-Optimization of Switched Reluctance Machine Design and Control (12.7 MB)\" href=\"https://trace.tennessee.edu/cgi/viewcontent.cgi?article=9401&amp;context=utk_graddiss\" target=\"_blank\" title=\"Download PDF of Multiple Objective Co-Optimization of Switched Reluctance Machine Design and Control (12.7 MB)\">PDF</a>,\n",
       " <a href=\"https://trace.tennessee.edu/utk_graddiss/8083\">Multiple Objective Co-Optimization of Switched Reluctance Machine Design and Control</a>,\n",
       " <a aria-label=\"Download PDF of THE SOCIAL BIBLE: SCRIPTURAL EXCHANGE AND INTERRACIAL FELLOWSHIP IN NINETEENTH-CENTURY AMERICAN LITERATURE (4.2 MB)\" href=\"https://trace.tennessee.edu/cgi/viewcontent.cgi?article=9470&amp;context=utk_graddiss\" target=\"_blank\" title=\"Download PDF of THE SOCIAL BIBLE: SCRIPTURAL EXCHANGE AND INTERRACIAL FELLOWSHIP IN NINETEENTH-CENTURY AMERICAN LITERATURE (4.2 MB)\">PDF</a>,\n",
       " <a href=\"https://trace.tennessee.edu/utk_graddiss/8711\">THE SOCIAL BIBLE: SCRIPTURAL EXCHANGE AND INTERRACIAL FELLOWSHIP IN NINETEENTH-CENTURY AMERICAN LITERATURE</a>,\n",
       " <a aria-label=\"Download PDF of AN EVALUATION OF EMERGENT AND ESTABLISHED TICK SPECIES AT MULTIPLE GEOGRAPHIC SCALES: COMMUNITY IMPACTS AND ECOLOGICAL PREDICTORS (3.8 MB)\" href=\"https://trace.tennessee.edu/cgi/viewcontent.cgi?article=9878&amp;context=utk_graddiss\" target=\"_blank\" title=\"Download PDF of AN EVALUATION OF EMERGENT AND ESTABLISHED TICK SPECIES AT MULTIPLE GEOGRAPHIC SCALES: COMMUNITY IMPACTS AND ECOLOGICAL PREDICTORS (3.8 MB)\">PDF</a>,\n",
       " <a href=\"https://trace.tennessee.edu/utk_graddiss/8575\">AN EVALUATION OF EMERGENT AND ESTABLISHED TICK SPECIES AT MULTIPLE GEOGRAPHIC SCALES: COMMUNITY IMPACTS AND ECOLOGICAL PREDICTORS</a>,\n",
       " <a aria-label=\"Download PDF of An Examination of Trauma-Informed Care in Medical Settings that Serve Mothers with Opioid Use Disorders &amp; their Infants (1.8 MB)\" href=\"https://trace.tennessee.edu/cgi/viewcontent.cgi?article=9069&amp;context=utk_graddiss\" target=\"_blank\" title=\"Download PDF of An Examination of Trauma-Informed Care in Medical Settings that Serve Mothers with Opioid Use Disorders &amp; their Infants (1.8 MB)\">PDF</a>,\n",
       " <a href=\"https://trace.tennessee.edu/utk_graddiss/8092\">An Examination of Trauma-Informed Care in Medical Settings that Serve Mothers with Opioid Use Disorders &amp; their Infants</a>,\n",
       " <a aria-label=\"Download PDF of Induction and Evasion of Neutrophil Extracellular Traps by Campylobacter jejuni and its Implication in Disease (5.5 MB)\" href=\"https://trace.tennessee.edu/cgi/viewcontent.cgi?article=9416&amp;context=utk_graddiss\" target=\"_blank\" title=\"Download PDF of Induction and Evasion of Neutrophil Extracellular Traps by Campylobacter jejuni and its Implication in Disease (5.5 MB)\">PDF</a>,\n",
       " <a href=\"https://trace.tennessee.edu/utk_graddiss/8081\">Induction and Evasion of Neutrophil Extracellular Traps by Campylobacter jejuni and its Implication in Disease</a>,\n",
       " <a aria-label=\"Download PDF of Fallen Flesh: Experiencing the Body in the Middle English Lives of Adam and Eve (1.3 MB)\" href=\"https://trace.tennessee.edu/cgi/viewcontent.cgi?article=9852&amp;context=utk_graddiss\" target=\"_blank\" title=\"Download PDF of Fallen Flesh: Experiencing the Body in the Middle English Lives of Adam and Eve (1.3 MB)\">PDF</a>,\n",
       " <a href=\"https://trace.tennessee.edu/utk_graddiss/8604\">Fallen Flesh: Experiencing the Body in the Middle English Lives of Adam and Eve</a>,\n",
       " <a aria-label='Download PDF of On Beliefs \"Worth Risking\" in Plato (931 KB)' href=\"https://trace.tennessee.edu/cgi/viewcontent.cgi?article=9302&amp;context=utk_graddiss\" target=\"_blank\" title='Download PDF of On Beliefs \"Worth Risking\" in Plato (931 KB)'>PDF</a>,\n",
       " <a href=\"https://trace.tennessee.edu/utk_graddiss/8087\">On Beliefs \"Worth Risking\" in Plato</a>,\n",
       " <a aria-label=\"Download PDF of Ethylene Perception and Response in Azospirillum brasilense Sp7 (5.4 MB)\" href=\"https://trace.tennessee.edu/cgi/viewcontent.cgi?article=9501&amp;context=utk_graddiss\" target=\"_blank\" title=\"Download PDF of Ethylene Perception and Response in Azospirillum brasilense Sp7 (5.4 MB)\">PDF</a>,\n",
       " <a href=\"https://trace.tennessee.edu/utk_graddiss/8704\">Ethylene Perception and Response in Azospirillum brasilense Sp7</a>,\n",
       " <a aria-label=\"Download PDF of Counselor Educators’ Engagement in Mental Health Services in Higher Education Institutions (1.0 MB)\" href=\"https://trace.tennessee.edu/cgi/viewcontent.cgi?article=9185&amp;context=utk_graddiss\" target=\"_blank\" title=\"Download PDF of Counselor Educators’ Engagement in Mental Health Services in Higher Education Institutions (1.0 MB)\">PDF</a>,\n",
       " <a href=\"https://trace.tennessee.edu/utk_graddiss/8090\">Counselor Educators’ Engagement in Mental Health Services in Higher Education Institutions</a>,\n",
       " <a aria-label=\"Download PDF of Methods to Hasten Zoysiagrass Establishment from Sprigs (2.2 MB)\" href=\"https://trace.tennessee.edu/cgi/viewcontent.cgi?article=9186&amp;context=utk_graddiss\" target=\"_blank\" title=\"Download PDF of Methods to Hasten Zoysiagrass Establishment from Sprigs (2.2 MB)\">PDF</a>,\n",
       " <a href=\"https://trace.tennessee.edu/utk_graddiss/8089\">Methods to Hasten Zoysiagrass Establishment from Sprigs</a>,\n",
       " <a aria-label=\"Download PDF of Path Integral Monte Carlo for Entanglement in Bosonic Lattices at T = 0 (2.2 MB)\" href=\"https://trace.tennessee.edu/cgi/viewcontent.cgi?article=9463&amp;context=utk_graddiss\" target=\"_blank\" title=\"Download PDF of Path Integral Monte Carlo for Entanglement in Bosonic Lattices at T = 0 (2.2 MB)\">PDF</a>,\n",
       " <a href=\"https://trace.tennessee.edu/utk_graddiss/8079\">Path Integral Monte Carlo for Entanglement in Bosonic Lattices at T = 0</a>,\n",
       " <a aria-label=\"Download PDF of Hashed Coordinate Sparse Tensor Storage with MATLAB (1.3 MB)\" href=\"https://trace.tennessee.edu/cgi/viewcontent.cgi?article=9408&amp;context=utk_graddiss\" target=\"_blank\" title=\"Download PDF of Hashed Coordinate Sparse Tensor Storage with MATLAB (1.3 MB)\">PDF</a>,\n",
       " <a href=\"https://trace.tennessee.edu/utk_graddiss/8721\">Hashed Coordinate Sparse Tensor Storage with MATLAB</a>,\n",
       " <a aria-label=\"Download PDF of An Exploratory Study of the Career Mobility Patterns of African American Women Working in Public Parks and Recreation Agencies (1.3 MB)\" href=\"https://trace.tennessee.edu/cgi/viewcontent.cgi?article=9359&amp;context=utk_graddiss\" target=\"_blank\" title=\"Download PDF of An Exploratory Study of the Career Mobility Patterns of African American Women Working in Public Parks and Recreation Agencies (1.3 MB)\">PDF</a>,\n",
       " <a href=\"https://trace.tennessee.edu/utk_graddiss/8084\">An Exploratory Study of the Career Mobility Patterns of African American Women Working in Public Parks and Recreation Agencies</a>,\n",
       " <a aria-label=\"Download PDF of Using Quantitative Wood Anatomy to Improve Tree-Ring Reconstructions of Climate and Environmental Disturbances (14.4 MB)\" href=\"https://trace.tennessee.edu/cgi/viewcontent.cgi?article=9490&amp;context=utk_graddiss\" target=\"_blank\" title=\"Download PDF of Using Quantitative Wood Anatomy to Improve Tree-Ring Reconstructions of Climate and Environmental Disturbances (14.4 MB)\">PDF</a>,\n",
       " <a href=\"https://trace.tennessee.edu/utk_graddiss/8708\">Using Quantitative Wood Anatomy to Improve Tree-Ring Reconstructions of Climate and Environmental Disturbances</a>,\n",
       " <a aria-label=\"Download PDF of Mitigating Space Industry Supply Chain Risk  Thru Risk-Based Analysis (2.6 MB)\" href=\"https://trace.tennessee.edu/cgi/viewcontent.cgi?article=9517&amp;context=utk_graddiss\" target=\"_blank\" title=\"Download PDF of Mitigating Space Industry Supply Chain Risk  Thru Risk-Based Analysis (2.6 MB)\">PDF</a>,\n",
       " <a href=\"https://trace.tennessee.edu/utk_graddiss/8100\">Mitigating Space Industry Supply Chain Risk  Thru Risk-Based Analysis</a>,\n",
       " <a aria-label=\"Download PDF of Total Absorption Spectroscopy of Mo-106 and Tc-106 (6.5 MB)\" href=\"https://trace.tennessee.edu/cgi/viewcontent.cgi?article=9505&amp;context=utk_graddiss\" target=\"_blank\" title=\"Download PDF of Total Absorption Spectroscopy of Mo-106 and Tc-106 (6.5 MB)\">PDF</a>,\n",
       " <a href=\"https://trace.tennessee.edu/utk_graddiss/8075\">Total Absorption Spectroscopy of Mo-106 and Tc-106</a>,\n",
       " <a aria-label=\"Download PDF of Increasing Productivity and Biodiversity of Tall Fescue Swards by Intercropping Cool and Warm-Season Forage Species (1.5 MB)\" href=\"https://trace.tennessee.edu/cgi/viewcontent.cgi?article=9085&amp;context=utk_graddiss\" target=\"_blank\" title=\"Download PDF of Increasing Productivity and Biodiversity of Tall Fescue Swards by Intercropping Cool and Warm-Season Forage Species (1.5 MB)\">PDF</a>,\n",
       " <a href=\"https://trace.tennessee.edu/utk_graddiss/8179\">Increasing Productivity and Biodiversity of Tall Fescue Swards by Intercropping Cool and Warm-Season Forage Species</a>,\n",
       " <a aria-label=\"Download PDF of Sensitivity Analysis of Thermophysical Properties of Molten Salts using a Molten Salt Demonstration Reactor Model in TRANSFORM (10.1 MB)\" href=\"https://trace.tennessee.edu/cgi/viewcontent.cgi?article=9300&amp;context=utk_graddiss\" target=\"_blank\" title=\"Download PDF of Sensitivity Analysis of Thermophysical Properties of Molten Salts using a Molten Salt Demonstration Reactor Model in TRANSFORM (10.1 MB)\">PDF</a>,\n",
       " <a href=\"https://trace.tennessee.edu/utk_graddiss/8160\">Sensitivity Analysis of Thermophysical Properties of Molten Salts using a Molten Salt Demonstration Reactor Model in TRANSFORM</a>,\n",
       " <a aria-label=\"Download PDF of &quot;I march to the beat of my own drum&quot;: A critical discourse analysis on mediated construction of Aaron Rodgers' COVID-19 vaccination disclosure (1.0 MB)\" href=\"https://trace.tennessee.edu/cgi/viewcontent.cgi?article=9366&amp;context=utk_graddiss\" target=\"_blank\" title=\"Download PDF of &quot;I march to the beat of my own drum&quot;: A critical discourse analysis on mediated construction of Aaron Rodgers' COVID-19 vaccination disclosure (1.0 MB)\">PDF</a>,\n",
       " <a href=\"https://trace.tennessee.edu/utk_graddiss/8138\">\"I march to the beat of my own drum\": A critical discourse analysis on mediated construction of Aaron Rodgers' COVID-19 vaccination disclosure</a>,\n",
       " <a aria-label=\"Download PDF of The Epistemic Value of Resonance: Intuitive Thinking in Theoretical Understanding (1.3 MB)\" href=\"https://trace.tennessee.edu/cgi/viewcontent.cgi?article=9455&amp;context=utk_graddiss\" target=\"_blank\" title=\"Download PDF of The Epistemic Value of Resonance: Intuitive Thinking in Theoretical Understanding (1.3 MB)\">PDF</a>,\n",
       " <a href=\"https://trace.tennessee.edu/utk_graddiss/8116\">The Epistemic Value of Resonance: Intuitive Thinking in Theoretical Understanding</a>,\n",
       " <a aria-label=\"Download PDF of Reduced Order Modeling And Analysis Of Cardiac Chaos (45.6 MB)\" href=\"https://trace.tennessee.edu/cgi/viewcontent.cgi?article=9801&amp;context=utk_graddiss\" target=\"_blank\" title=\"Download PDF of Reduced Order Modeling And Analysis Of Cardiac Chaos (45.6 MB)\">PDF</a>,\n",
       " <a href=\"https://trace.tennessee.edu/utk_graddiss/8660\">Reduced Order Modeling And Analysis Of Cardiac Chaos</a>,\n",
       " <a aria-label=\"Download PDF of DEVELOPMENT OF A LOW-DOSE RADIATION THERAPY DEVICE FOR ACUTE RESPIRATORY DISTRESS SYNDROME (5.3 MB)\" href=\"https://trace.tennessee.edu/cgi/viewcontent.cgi?article=9482&amp;context=utk_graddiss\" target=\"_blank\" title=\"Download PDF of DEVELOPMENT OF A LOW-DOSE RADIATION THERAPY DEVICE FOR ACUTE RESPIRATORY DISTRESS SYNDROME (5.3 MB)\">PDF</a>,\n",
       " <a href=\"https://trace.tennessee.edu/utk_graddiss/8108\">DEVELOPMENT OF A LOW-DOSE RADIATION THERAPY DEVICE FOR ACUTE RESPIRATORY DISTRESS SYNDROME</a>,\n",
       " <a aria-label=\"Download PDF of Exploiting Symmetry in Linear and Integer Linear Programming (584 KB)\" href=\"https://trace.tennessee.edu/cgi/viewcontent.cgi?article=9358&amp;context=utk_graddiss\" target=\"_blank\" title=\"Download PDF of Exploiting Symmetry in Linear and Integer Linear Programming (584 KB)\">PDF</a>,\n",
       " <a href=\"https://trace.tennessee.edu/utk_graddiss/8141\">Exploiting Symmetry in Linear and Integer Linear Programming</a>,\n",
       " <a aria-label=\"Download PDF of Student Choice-of-Text in an Upper Secondary Independent Reading Program: A Quasi-Experimental Study (4.1 MB)\" href=\"https://trace.tennessee.edu/cgi/viewcontent.cgi?article=9529&amp;context=utk_graddiss\" target=\"_blank\" title=\"Download PDF of Student Choice-of-Text in an Upper Secondary Independent Reading Program: A Quasi-Experimental Study (4.1 MB)\">PDF</a>,\n",
       " <a href=\"https://trace.tennessee.edu/utk_graddiss/8098\">Student Choice-of-Text in an Upper Secondary Independent Reading Program: A Quasi-Experimental Study</a>,\n",
       " <a aria-label=\"Download PDF of Computational Aspects of Mixed Characteristic Witt Vectors and Denominators in Canonical Liftings of Elliptic Curves (611 KB)\" href=\"https://trace.tennessee.edu/cgi/viewcontent.cgi?article=9345&amp;context=utk_graddiss\" target=\"_blank\" title=\"Download PDF of Computational Aspects of Mixed Characteristic Witt Vectors and Denominators in Canonical Liftings of Elliptic Curves (611 KB)\">PDF</a>,\n",
       " <a href=\"https://trace.tennessee.edu/utk_graddiss/8145\">Computational Aspects of Mixed Characteristic Witt Vectors and Denominators in Canonical Liftings of Elliptic Curves</a>,\n",
       " <a aria-label=\"Download PDF of Resiliency of Power Systems in the Cyber Layer: Application to Load Forecasting and Security Assessment (9.0 MB)\" href=\"https://trace.tennessee.edu/cgi/viewcontent.cgi?article=9825&amp;context=utk_graddiss\" target=\"_blank\" title=\"Download PDF of Resiliency of Power Systems in the Cyber Layer: Application to Load Forecasting and Security Assessment (9.0 MB)\">PDF</a>,\n",
       " <a href=\"https://trace.tennessee.edu/utk_graddiss/8636\">Resiliency of Power Systems in the Cyber Layer: Application to Load Forecasting and Security Assessment</a>,\n",
       " <a aria-label=\"Download PDF of The Role Of Multiple Object Views In Early Word Learning: A Dynamic Process (2.1 MB)\" href=\"https://trace.tennessee.edu/cgi/viewcontent.cgi?article=9322&amp;context=utk_graddiss\" target=\"_blank\" title=\"Download PDF of The Role Of Multiple Object Views In Early Word Learning: A Dynamic Process (2.1 MB)\">PDF</a>,\n",
       " <a href=\"https://trace.tennessee.edu/utk_graddiss/8153\">The Role Of Multiple Object Views In Early Word Learning: A Dynamic Process</a>,\n",
       " <a aria-label=\"Download PDF of Cell-free Metabolic Engineering Strategies for Accelerated Biomanufacturing (4.5 MB)\" href=\"https://trace.tennessee.edu/cgi/viewcontent.cgi?article=9472&amp;context=utk_graddiss\" target=\"_blank\" title=\"Download PDF of Cell-free Metabolic Engineering Strategies for Accelerated Biomanufacturing (4.5 MB)\">PDF</a>,\n",
       " <a href=\"https://trace.tennessee.edu/utk_graddiss/8112\">Cell-free Metabolic Engineering Strategies for Accelerated Biomanufacturing</a>,\n",
       " <a aria-label=\"Download PDF of Leveraging Supply Chain Planning for Improved Supply Chain Performance (1.8 MB)\" href=\"https://trace.tennessee.edu/cgi/viewcontent.cgi?article=9341&amp;context=utk_graddiss\" target=\"_blank\" title=\"Download PDF of Leveraging Supply Chain Planning for Improved Supply Chain Performance (1.8 MB)\">PDF</a>,\n",
       " <a href=\"https://trace.tennessee.edu/utk_graddiss/8147\">Leveraging Supply Chain Planning for Improved Supply Chain Performance</a>,\n",
       " <a aria-label=\"Download PDF of Greenwashing “Brown Gold”: A Critical Analysis of Anaerobic Digesters and California’s Neoliberal Environmental Programs in Wisconsin’s Dairyland (2.7 MB)\" href=\"https://trace.tennessee.edu/cgi/viewcontent.cgi?article=9787&amp;context=utk_graddiss\" target=\"_blank\" title=\"Download PDF of Greenwashing “Brown Gold”: A Critical Analysis of Anaerobic Digesters and California’s Neoliberal Environmental Programs in Wisconsin’s Dairyland (2.7 MB)\">PDF</a>,\n",
       " <a href=\"https://trace.tennessee.edu/utk_graddiss/8679\">Greenwashing “Brown Gold”: A Critical Analysis of Anaerobic Digesters and California’s Neoliberal Environmental Programs in Wisconsin’s Dairyland</a>,\n",
       " <a aria-label=\"Download PDF of The G_2-Hitchin Component of Triangle Groups: Dimension and Integer Points (1.7 MB)\" href=\"https://trace.tennessee.edu/cgi/viewcontent.cgi?article=9854&amp;context=utk_graddiss\" target=\"_blank\" title=\"Download PDF of The G_2-Hitchin Component of Triangle Groups: Dimension and Integer Points (1.7 MB)\">PDF</a>,\n",
       " <a href=\"https://trace.tennessee.edu/utk_graddiss/8601\">The G_2-Hitchin Component of Triangle Groups: Dimension and Integer Points</a>,\n",
       " <a aria-label=\"Download PDF of Developing Spin and Polarization Order in 2D Hybrid Perovskites (6.1 MB)\" href=\"https://trace.tennessee.edu/cgi/viewcontent.cgi?article=9862&amp;context=utk_graddiss\" target=\"_blank\" title=\"Download PDF of Developing Spin and Polarization Order in 2D Hybrid Perovskites (6.1 MB)\">PDF</a>,\n",
       " <a href=\"https://trace.tennessee.edu/utk_graddiss/8590\">Developing Spin and Polarization Order in 2D Hybrid Perovskites</a>,\n",
       " <a aria-label=\"Download PDF of Examining the Relationship Between Lignocellulosic Biomass Structural Constituents and Its Flow Behavior (4.7 MB)\" href=\"https://trace.tennessee.edu/cgi/viewcontent.cgi?article=9323&amp;context=utk_graddiss\" target=\"_blank\" title=\"Download PDF of Examining the Relationship Between Lignocellulosic Biomass Structural Constituents and Its Flow Behavior (4.7 MB)\">PDF</a>,\n",
       " <a href=\"https://trace.tennessee.edu/utk_graddiss/8732\">Examining the Relationship Between Lignocellulosic Biomass Structural Constituents and Its Flow Behavior</a>,\n",
       " <a aria-label=\"Download PDF of Who Gave You Permission to Rearrange Me? Certainly Not Me: Examining the Racialized Nature of Beauty vis-a-vis Colorism, Skin Bleaching, and Life Chance (3.3 MB)\" href=\"https://trace.tennessee.edu/cgi/viewcontent.cgi?article=9325&amp;context=utk_graddiss\" target=\"_blank\" title=\"Download PDF of Who Gave You Permission to Rearrange Me? Certainly Not Me: Examining the Racialized Nature of Beauty vis-a-vis Colorism, Skin Bleaching, and Life Chance (3.3 MB)\">PDF</a>,\n",
       " <a href=\"https://trace.tennessee.edu/utk_graddiss/8151\">Who Gave You Permission to Rearrange Me? Certainly Not Me: Examining the Racialized Nature of Beauty vis-a-vis Colorism, Skin Bleaching, and Life Chance</a>,\n",
       " <a aria-label=\"Download PDF of Applications of Mathematical and Statistical Modeling to Wildlife Management, Animal Husbandry, and Circadian Physiology (5.0 MB)\" href=\"https://trace.tennessee.edu/cgi/viewcontent.cgi?article=9478&amp;context=utk_graddiss\" target=\"_blank\" title=\"Download PDF of Applications of Mathematical and Statistical Modeling to Wildlife Management, Animal Husbandry, and Circadian Physiology (5.0 MB)\">PDF</a>,\n",
       " <a href=\"https://trace.tennessee.edu/utk_graddiss/8110\">Applications of Mathematical and Statistical Modeling to Wildlife Management, Animal Husbandry, and Circadian Physiology</a>,\n",
       " <a aria-label=\"Download PDF of Firm Transparency of Risk Oversight: An Examination of Cybersecurity Governance Disclosures (1.6 MB)\" href=\"https://trace.tennessee.edu/cgi/viewcontent.cgi?article=9329&amp;context=utk_graddiss\" target=\"_blank\" title=\"Download PDF of Firm Transparency of Risk Oversight: An Examination of Cybersecurity Governance Disclosures (1.6 MB)\">PDF</a>,\n",
       " <a href=\"https://trace.tennessee.edu/utk_graddiss/8149\">Firm Transparency of Risk Oversight: An Examination of Cybersecurity Governance Disclosures</a>,\n",
       " <a aria-label=\"Download PDF of MECHANOCHEMICAL SYNTHESIS OF TASK-SPECIFIC CONJUGATED POROUS NETWORKS TOWARDS ENHANCED ENERGY STORAGE (9.4 MB)\" href=\"https://trace.tennessee.edu/cgi/viewcontent.cgi?article=9308&amp;context=utk_graddiss\" target=\"_blank\" title=\"Download PDF of MECHANOCHEMICAL SYNTHESIS OF TASK-SPECIFIC CONJUGATED POROUS NETWORKS TOWARDS ENHANCED ENERGY STORAGE (9.4 MB)\">PDF</a>,\n",
       " <a href=\"https://trace.tennessee.edu/utk_graddiss/8155\">MECHANOCHEMICAL SYNTHESIS OF TASK-SPECIFIC CONJUGATED POROUS NETWORKS TOWARDS ENHANCED ENERGY STORAGE</a>,\n",
       " <a aria-label=\"Download PDF of Heuristics for Lagrangian Relaxation Formulations for the Unit Commitment Problem (5.8 MB)\" href=\"https://trace.tennessee.edu/cgi/viewcontent.cgi?article=9098&amp;context=utk_graddiss\" target=\"_blank\" title=\"Download PDF of Heuristics for Lagrangian Relaxation Formulations for the Unit Commitment Problem (5.8 MB)\">PDF</a>,\n",
       " <a href=\"https://trace.tennessee.edu/utk_graddiss/8735\">Heuristics for Lagrangian Relaxation Formulations for the Unit Commitment Problem</a>,\n",
       " <a aria-label=\"Download PDF of Protection of Grid-Tied and Islanded Systems  with High Penetration of  Inverter-Based Resources (14.3 MB)\" href=\"https://trace.tennessee.edu/cgi/viewcontent.cgi?article=9309&amp;context=utk_graddiss\" target=\"_blank\" title=\"Download PDF of Protection of Grid-Tied and Islanded Systems  with High Penetration of  Inverter-Based Resources (14.3 MB)\">PDF</a>,\n",
       " <a href=\"https://trace.tennessee.edu/utk_graddiss/8154\">Protection of Grid-Tied and Islanded Systems  with High Penetration of  Inverter-Based Resources</a>,\n",
       " <a aria-label=\"Download PDF of Nuclear Thermal Rocket Engine Instrumentation Addressing Environmental Limitations on Temperature Measurements (1.8 MB)\" href=\"https://trace.tennessee.edu/cgi/viewcontent.cgi?article=9218&amp;context=utk_graddiss\" target=\"_blank\" title=\"Download PDF of Nuclear Thermal Rocket Engine Instrumentation Addressing Environmental Limitations on Temperature Measurements (1.8 MB)\">PDF</a>,\n",
       " <a href=\"https://trace.tennessee.edu/utk_graddiss/8168\">Nuclear Thermal Rocket Engine Instrumentation Addressing Environmental Limitations on Temperature Measurements</a>,\n",
       " <a aria-label=\"Download PDF of Altering Activities to Enhance the Effects of Social Skills Training and Tootling on Elementary Students Performance of Recently-Trained Social Skills (1.3 MB)\" href=\"https://trace.tennessee.edu/cgi/viewcontent.cgi?article=8803&amp;context=utk_graddiss\" target=\"_blank\" title=\"Download PDF of Altering Activities to Enhance the Effects of Social Skills Training and Tootling on Elementary Students Performance of Recently-Trained Social Skills (1.3 MB)\">PDF</a>,\n",
       " <a href=\"https://trace.tennessee.edu/utk_graddiss/8745\">Altering Activities to Enhance the Effects of Social Skills Training and Tootling on Elementary Students Performance of Recently-Trained Social Skills</a>,\n",
       " <a aria-label=\"Download PDF of Thinking Differently Consuming Differently: Exploring Marginalized Gen Z’s Psychological Trauma as a Catalyst to Alternative Consumption During the Covid-Era (5.7 MB)\" href=\"https://trace.tennessee.edu/cgi/viewcontent.cgi?article=9808&amp;context=utk_graddiss\" target=\"_blank\" title=\"Download PDF of Thinking Differently Consuming Differently: Exploring Marginalized Gen Z’s Psychological Trauma as a Catalyst to Alternative Consumption During the Covid-Era (5.7 MB)\">PDF</a>,\n",
       " <a href=\"https://trace.tennessee.edu/utk_graddiss/8656\">Thinking Differently Consuming Differently: Exploring Marginalized Gen Z’s Psychological Trauma as a Catalyst to Alternative Consumption During the Covid-Era</a>,\n",
       " <a aria-label=\"Download PDF of Exploring New Methods for Polymer and Monomer Editing (10.7 MB)\" href=\"https://trace.tennessee.edu/cgi/viewcontent.cgi?article=9845&amp;context=utk_graddiss\" target=\"_blank\" title=\"Download PDF of Exploring New Methods for Polymer and Monomer Editing (10.7 MB)\">PDF</a>,\n",
       " <a href=\"https://trace.tennessee.edu/utk_graddiss/8610\">Exploring New Methods for Polymer and Monomer Editing</a>,\n",
       " <a aria-label=\"Download PDF of IMPROVED SPATIAL RESOLUTION FOR DOUBLE-SIDED STRIP DETECTORS USING LITHIUM INDIUM DISELENIDE SEMICONDUCTORS (3.8 MB)\" href=\"https://trace.tennessee.edu/cgi/viewcontent.cgi?article=9480&amp;context=utk_graddiss\" target=\"_blank\" title=\"Download PDF of IMPROVED SPATIAL RESOLUTION FOR DOUBLE-SIDED STRIP DETECTORS USING LITHIUM INDIUM DISELENIDE SEMICONDUCTORS (3.8 MB)\">PDF</a>,\n",
       " <a href=\"https://trace.tennessee.edu/utk_graddiss/8109\">IMPROVED SPATIAL RESOLUTION FOR DOUBLE-SIDED STRIP DETECTORS USING LITHIUM INDIUM DISELENIDE SEMICONDUCTORS</a>,\n",
       " <a aria-label=\"Download PDF of Juvenile Probation Officers’ Lived Experiences of Collaboration with Clinical Mental Health Counselors: An Interpretive Phenomenological Analysis. (852 KB)\" href=\"https://trace.tennessee.edu/cgi/viewcontent.cgi?article=9832&amp;context=utk_graddiss\" target=\"_blank\" title=\"Download PDF of Juvenile Probation Officers’ Lived Experiences of Collaboration with Clinical Mental Health Counselors: An Interpretive Phenomenological Analysis. (852 KB)\">PDF</a>,\n",
       " <a href=\"https://trace.tennessee.edu/utk_graddiss/8629\">Juvenile Probation Officers’ Lived Experiences of Collaboration with Clinical Mental Health Counselors: An Interpretive Phenomenological Analysis.</a>,\n",
       " <a aria-label=\"Download PDF of Establishing Alliances: Plant and Microbial Drivers of Microbiome Assembly across Community Complexity and Timescale (10.8 MB)\" href=\"https://trace.tennessee.edu/cgi/viewcontent.cgi?article=9800&amp;context=utk_graddiss\" target=\"_blank\" title=\"Download PDF of Establishing Alliances: Plant and Microbial Drivers of Microbiome Assembly across Community Complexity and Timescale (10.8 MB)\">PDF</a>,\n",
       " <a href=\"https://trace.tennessee.edu/utk_graddiss/8661\">Establishing Alliances: Plant and Microbial Drivers of Microbiome Assembly across Community Complexity and Timescale</a>,\n",
       " <a aria-label=\"Download PDF of Antimicrobial Resistance and Molecular Epidemiology of Extended-Spectrum Beta-Lactamase-Producing Escherichia coli and Klebsiella Species in Dairy Farms (2.5 MB)\" href=\"https://trace.tennessee.edu/cgi/viewcontent.cgi?article=9461&amp;context=utk_graddiss\" target=\"_blank\" title=\"Download PDF of Antimicrobial Resistance and Molecular Epidemiology of Extended-Spectrum Beta-Lactamase-Producing Escherichia coli and Klebsiella Species in Dairy Farms (2.5 MB)\">PDF</a>,\n",
       " <a href=\"https://trace.tennessee.edu/utk_graddiss/8713\">Antimicrobial Resistance and Molecular Epidemiology of Extended-Spectrum Beta-Lactamase-Producing Escherichia coli and Klebsiella Species in Dairy Farms</a>,\n",
       " <a aria-label=\"Download PDF of Heimat or Hjemland: National Consciousness, Self-Determination, and the First World War in Schleswig-Holstein, 1864-1920 (3.6 MB)\" href=\"https://trace.tennessee.edu/cgi/viewcontent.cgi?article=9402&amp;context=utk_graddiss\" target=\"_blank\" title=\"Download PDF of Heimat or Hjemland: National Consciousness, Self-Determination, and the First World War in Schleswig-Holstein, 1864-1920 (3.6 MB)\">PDF</a>,\n",
       " <a href=\"https://trace.tennessee.edu/utk_graddiss/8136\">Heimat or Hjemland: National Consciousness, Self-Determination, and the First World War in Schleswig-Holstein, 1864-1920</a>,\n",
       " <a aria-label=\"Download PDF of Evaluation Of SiC Thermomechanical Performance Safety Limits For TRISO With BISON (12.1 MB)\" href=\"https://trace.tennessee.edu/cgi/viewcontent.cgi?article=9821&amp;context=utk_graddiss\" target=\"_blank\" title=\"Download PDF of Evaluation Of SiC Thermomechanical Performance Safety Limits For TRISO With BISON (12.1 MB)\">PDF</a>,\n",
       " <a href=\"https://trace.tennessee.edu/utk_graddiss/8642\">Evaluation Of SiC Thermomechanical Performance Safety Limits For TRISO With BISON</a>,\n",
       " <a aria-label=\"Download PDF of Sexual Assault Survivors’ Experiences of Campus Spaces: A Photovoice Study (3.0 MB)\" href=\"https://trace.tennessee.edu/cgi/viewcontent.cgi?article=9836&amp;context=utk_graddiss\" target=\"_blank\" title=\"Download PDF of Sexual Assault Survivors’ Experiences of Campus Spaces: A Photovoice Study (3.0 MB)\">PDF</a>,\n",
       " <a href=\"https://trace.tennessee.edu/utk_graddiss/8624\">Sexual Assault Survivors’ Experiences of Campus Spaces: A Photovoice Study</a>,\n",
       " <a aria-label=\"Download PDF of Large-scale volcanism on the terrestrial planets (6.6 MB)\" href=\"https://trace.tennessee.edu/cgi/viewcontent.cgi?article=7837&amp;context=utk_graddiss\" target=\"_blank\" title=\"Download PDF of Large-scale volcanism on the terrestrial planets (6.6 MB)\">PDF</a>,\n",
       " <a href=\"https://trace.tennessee.edu/utk_graddiss/8189\">Large-scale volcanism on the terrestrial planets</a>,\n",
       " <a aria-label=\"Download PDF of MULTIDIMENSIONAL INVESTIGATION OF TENNESSEE’S URBAN FOREST (4.9 MB)\" href=\"https://trace.tennessee.edu/cgi/viewcontent.cgi?article=9035&amp;context=utk_graddiss\" target=\"_blank\" title=\"Download PDF of MULTIDIMENSIONAL INVESTIGATION OF TENNESSEE’S URBAN FOREST (4.9 MB)\">PDF</a>,\n",
       " <a href=\"https://trace.tennessee.edu/utk_graddiss/8185\">MULTIDIMENSIONAL INVESTIGATION OF TENNESSEE’S URBAN FOREST</a>,\n",
       " <a aria-label=\"Download PDF of LARGE DEVIATIONS FOR SELF INTERSECTION LOCAL TIMES OF ORNSTEIN-UHLENBECK PROCESSES (436 KB)\" href=\"https://trace.tennessee.edu/cgi/viewcontent.cgi?article=9297&amp;context=utk_graddiss\" target=\"_blank\" title=\"Download PDF of LARGE DEVIATIONS FOR SELF INTERSECTION LOCAL TIMES OF ORNSTEIN-UHLENBECK PROCESSES (436 KB)\">PDF</a>,\n",
       " <a href=\"https://trace.tennessee.edu/utk_graddiss/8162\">LARGE DEVIATIONS FOR SELF INTERSECTION LOCAL TIMES OF ORNSTEIN-UHLENBECK PROCESSES</a>,\n",
       " <a aria-label=\"Download PDF of Climatological Analysis of Tropical Cyclone Occurrence Dates and Landfall Characteristics in the North Atlantic and Eastern North Pacific (3.7 MB)\" href=\"https://trace.tennessee.edu/cgi/viewcontent.cgi?article=9413&amp;context=utk_graddiss\" target=\"_blank\" title=\"Download PDF of Climatological Analysis of Tropical Cyclone Occurrence Dates and Landfall Characteristics in the North Atlantic and Eastern North Pacific (3.7 MB)\">PDF</a>,\n",
       " <a href=\"https://trace.tennessee.edu/utk_graddiss/8133\">Climatological Analysis of Tropical Cyclone Occurrence Dates and Landfall Characteristics in the North Atlantic and Eastern North Pacific</a>,\n",
       " <a aria-label=\"Download PDF of An Exploration of Absolute Minimal Degree Lifts of Hyperelliptic Curves (863 KB)\" href=\"https://trace.tennessee.edu/cgi/viewcontent.cgi?article=9510&amp;context=utk_graddiss\" target=\"_blank\" title=\"Download PDF of An Exploration of Absolute Minimal Degree Lifts of Hyperelliptic Curves (863 KB)\">PDF</a>,\n",
       " <a href=\"https://trace.tennessee.edu/utk_graddiss/8702\">An Exploration of Absolute Minimal Degree Lifts of Hyperelliptic Curves</a>,\n",
       " <a aria-label=\"Download PDF of Mining Crowdsourced Data for Pavement Maintenance, Incident Management, and Traffic Monitoring (4.2 MB)\" href=\"https://trace.tennessee.edu/cgi/viewcontent.cgi?article=9107&amp;context=utk_graddiss\" target=\"_blank\" title=\"Download PDF of Mining Crowdsourced Data for Pavement Maintenance, Incident Management, and Traffic Monitoring (4.2 MB)\">PDF</a>,\n",
       " <a href=\"https://trace.tennessee.edu/utk_graddiss/8175\">Mining Crowdsourced Data for Pavement Maintenance, Incident Management, and Traffic Monitoring</a>,\n",
       " <a aria-label=\"Download PDF of Monitoring Additive Manufacturing Machine Health (3.4 MB)\" href=\"https://trace.tennessee.edu/cgi/viewcontent.cgi?article=9129&amp;context=utk_graddiss\" target=\"_blank\" title=\"Download PDF of Monitoring Additive Manufacturing Machine Health (3.4 MB)\">PDF</a>,\n",
       " <a href=\"https://trace.tennessee.edu/utk_graddiss/8173\">Monitoring Additive Manufacturing Machine Health</a>,\n",
       " <a aria-label=\"Download PDF of Synthesizing, Purifying, and Characterizing Molten Chloride Salts (3.4 MB)\" href=\"https://trace.tennessee.edu/cgi/viewcontent.cgi?article=9099&amp;context=utk_graddiss\" target=\"_blank\" title=\"Download PDF of Synthesizing, Purifying, and Characterizing Molten Chloride Salts (3.4 MB)\">PDF</a>,\n",
       " <a href=\"https://trace.tennessee.edu/utk_graddiss/8177\">Synthesizing, Purifying, and Characterizing Molten Chloride Salts</a>,\n",
       " <a aria-label=\"Download PDF of The Influence of Spectral Quality on Primary and Secondary Metabolism of Hydroponically Grown Basil (4.6 MB)\" href=\"https://trace.tennessee.edu/cgi/viewcontent.cgi?article=9866&amp;context=utk_graddiss\" target=\"_blank\" title=\"Download PDF of The Influence of Spectral Quality on Primary and Secondary Metabolism of Hydroponically Grown Basil (4.6 MB)\">PDF</a>,\n",
       " <a href=\"https://trace.tennessee.edu/utk_graddiss/8581\">The Influence of Spectral Quality on Primary and Secondary Metabolism of Hydroponically Grown Basil</a>,\n",
       " <a aria-label=\"Download PDF of Exploring Wellness Behaviors following a Non-Death Loss Experience:  A Structural Equation Model (1.2 MB)\" href=\"https://trace.tennessee.edu/cgi/viewcontent.cgi?article=9521&amp;context=utk_graddiss\" target=\"_blank\" title=\"Download PDF of Exploring Wellness Behaviors following a Non-Death Loss Experience:  A Structural Equation Model (1.2 MB)\">PDF</a>,\n",
       " <a href=\"https://trace.tennessee.edu/utk_graddiss/8698\">Exploring Wellness Behaviors following a Non-Death Loss Experience:  A Structural Equation Model</a>,\n",
       " <a aria-label=\"Download PDF of Coefficients of modular forms and applications to partition theory (619 KB)\" href=\"https://trace.tennessee.edu/cgi/viewcontent.cgi?article=9305&amp;context=utk_graddiss\" target=\"_blank\" title=\"Download PDF of Coefficients of modular forms and applications to partition theory (619 KB)\">PDF</a>,\n",
       " <a href=\"https://trace.tennessee.edu/utk_graddiss/8156\">Coefficients of modular forms and applications to partition theory</a>,\n",
       " <a aria-label=\"Download PDF of Role of kinases and an epigenetically regulated gene in soybean cyst nematode resistance (3.9 MB)\" href=\"https://trace.tennessee.edu/cgi/viewcontent.cgi?article=9469&amp;context=utk_graddiss\" target=\"_blank\" title=\"Download PDF of Role of kinases and an epigenetically regulated gene in soybean cyst nematode resistance (3.9 MB)\">PDF</a>,\n",
       " <a href=\"https://trace.tennessee.edu/utk_graddiss/8113\">Role of kinases and an epigenetically regulated gene in soybean cyst nematode resistance</a>,\n",
       " <a aria-label=\"Download PDF of Neutrino Physics at a Research Reactor: Backgrounds and Analysis (11.9 MB)\" href=\"https://trace.tennessee.edu/cgi/viewcontent.cgi?article=9052&amp;context=utk_graddiss\" target=\"_blank\" title=\"Download PDF of Neutrino Physics at a Research Reactor: Backgrounds and Analysis (11.9 MB)\">PDF</a>,\n",
       " <a href=\"https://trace.tennessee.edu/utk_graddiss/8183\">Neutrino Physics at a Research Reactor: Backgrounds and Analysis</a>,\n",
       " <a aria-label=\"Download PDF of Mandated Learning: Administrators' Perceptions of Unfunded Mandates in Online Education (1.4 MB)\" href=\"https://trace.tennessee.edu/cgi/viewcontent.cgi?article=9327&amp;context=utk_graddiss\" target=\"_blank\" title=\"Download PDF of Mandated Learning: Administrators' Perceptions of Unfunded Mandates in Online Education (1.4 MB)\">PDF</a>,\n",
       " <a href=\"https://trace.tennessee.edu/utk_graddiss/8731\">Mandated Learning: Administrators' Perceptions of Unfunded Mandates in Online Education</a>,\n",
       " <a aria-label=\"Download PDF of Responsive Building Envelope for Grid-Interactive Efficient Buildings – Thermal Performance and Control (12.4 MB)\" href=\"https://trace.tennessee.edu/cgi/viewcontent.cgi?article=8033&amp;context=utk_graddiss\" target=\"_blank\" title=\"Download PDF of Responsive Building Envelope for Grid-Interactive Efficient Buildings – Thermal Performance and Control (12.4 MB)\">PDF</a>,\n",
       " <a href=\"https://trace.tennessee.edu/utk_graddiss/8750\">Responsive Building Envelope for Grid-Interactive Efficient Buildings – Thermal Performance and Control</a>,\n",
       " <a aria-label=\"Download PDF of Examining the Impact of Course Modality and Course Content Presentation Modality on Undergraduate Grade Outcomes and Course Evaluations (962 KB)\" href=\"https://trace.tennessee.edu/cgi/viewcontent.cgi?article=8715&amp;context=utk_graddiss\" target=\"_blank\" title=\"Download PDF of Examining the Impact of Course Modality and Course Content Presentation Modality on Undergraduate Grade Outcomes and Course Evaluations (962 KB)\">PDF</a>,\n",
       " <a href=\"https://trace.tennessee.edu/utk_graddiss/8748\">Examining the Impact of Course Modality and Course Content Presentation Modality on Undergraduate Grade Outcomes and Course Evaluations</a>,\n",
       " <a aria-label=\"Download PDF of Precipitation Variability and Predictability over the Arabian Peninsula, Central Southwest Asia, and Southern Africa (15.1 MB)\" href=\"https://trace.tennessee.edu/cgi/viewcontent.cgi?article=9833&amp;context=utk_graddiss\" target=\"_blank\" title=\"Download PDF of Precipitation Variability and Predictability over the Arabian Peninsula, Central Southwest Asia, and Southern Africa (15.1 MB)\">PDF</a>,\n",
       " <a href=\"https://trace.tennessee.edu/utk_graddiss/8627\">Precipitation Variability and Predictability over the Arabian Peninsula, Central Southwest Asia, and Southern Africa</a>,\n",
       " <a aria-label=\"Download PDF of The Impact of Guaranteed Income on Political Participation (1.3 MB)\" href=\"https://trace.tennessee.edu/cgi/viewcontent.cgi?article=8838&amp;context=utk_graddiss\" target=\"_blank\" title=\"Download PDF of The Impact of Guaranteed Income on Political Participation (1.3 MB)\">PDF</a>,\n",
       " <a href=\"https://trace.tennessee.edu/utk_graddiss/8741\">The Impact of Guaranteed Income on Political Participation</a>,\n",
       " <a aria-label=\"Download PDF of Understanding lignin’s fast pyrolysis through examination of the thermolysis mechanisms of model oligomers (10.8 MB)\" href=\"https://trace.tennessee.edu/cgi/viewcontent.cgi?article=9364&amp;context=utk_graddiss\" target=\"_blank\" title=\"Download PDF of Understanding lignin’s fast pyrolysis through examination of the thermolysis mechanisms of model oligomers (10.8 MB)\">PDF</a>,\n",
       " <a href=\"https://trace.tennessee.edu/utk_graddiss/8727\">Understanding lignin’s fast pyrolysis through examination of the thermolysis mechanisms of model oligomers</a>,\n",
       " <a aria-label=\"Download PDF of Medicinal Tea: Global Cultural Transfer and A Vast Early America (1.3 MB)\" href=\"https://trace.tennessee.edu/cgi/viewcontent.cgi?article=9403&amp;context=utk_graddiss\" target=\"_blank\" title=\"Download PDF of Medicinal Tea: Global Cultural Transfer and A Vast Early America (1.3 MB)\">PDF</a>,\n",
       " <a href=\"https://trace.tennessee.edu/utk_graddiss/8725\">Medicinal Tea: Global Cultural Transfer and A Vast Early America</a>,\n",
       " <a aria-label=\"Download PDF of Developments in Hardwood Genomics: The Generation and Application of Molecular Resources for Species Preservation (3.8 MB)\" href=\"https://trace.tennessee.edu/cgi/viewcontent.cgi?article=9414&amp;context=utk_graddiss\" target=\"_blank\" title=\"Download PDF of Developments in Hardwood Genomics: The Generation and Application of Molecular Resources for Species Preservation (3.8 MB)\">PDF</a>,\n",
       " <a href=\"https://trace.tennessee.edu/utk_graddiss/8132\">Developments in Hardwood Genomics: The Generation and Application of Molecular Resources for Species Preservation</a>,\n",
       " <a aria-label=\"Download PDF of Not a Tracing: A Map (840 KB)\" href=\"https://trace.tennessee.edu/cgi/viewcontent.cgi?article=9588&amp;context=utk_graddiss\" target=\"_blank\" title=\"Download PDF of Not a Tracing: A Map (840 KB)\">PDF</a>,\n",
       " <a href=\"https://trace.tennessee.edu/utk_graddiss/8097\">Not a Tracing: A Map</a>,\n",
       " <a aria-label=\"Download PDF of Impacts of High Renewable Power Grids on System Planning and Monitoring (10.6 MB)\" href=\"https://trace.tennessee.edu/cgi/viewcontent.cgi?article=9818&amp;context=utk_graddiss\" target=\"_blank\" title=\"Download PDF of Impacts of High Renewable Power Grids on System Planning and Monitoring (10.6 MB)\">PDF</a>,\n",
       " <a href=\"https://trace.tennessee.edu/utk_graddiss/8646\">Impacts of High Renewable Power Grids on System Planning and Monitoring</a>,\n",
       " <a aria-label=\"Download PDF of “Not What I Expected”: A Narrative Inquiry on the Leadership Experiences of Women Campus Recreation Directors in the Power Five Conferences (3.2 MB)\" href=\"https://trace.tennessee.edu/cgi/viewcontent.cgi?article=9344&amp;context=utk_graddiss\" target=\"_blank\" title=\"Download PDF of “Not What I Expected”: A Narrative Inquiry on the Leadership Experiences of Women Campus Recreation Directors in the Power Five Conferences (3.2 MB)\">PDF</a>,\n",
       " <a href=\"https://trace.tennessee.edu/utk_graddiss/8146\">“Not What I Expected”: A Narrative Inquiry on the Leadership Experiences of Women Campus Recreation Directors in the Power Five Conferences</a>,\n",
       " <a aria-label=\"Download PDF of The Role of Trait Mindfulness, Perceived Stress, and Impulsivity in Understanding the Relationship between Stress Mindset and Psychological Intimate Partner Aggression (714 KB)\" href=\"https://trace.tennessee.edu/cgi/viewcontent.cgi?article=8599&amp;context=utk_graddiss\" target=\"_blank\" title=\"Download PDF of The Role of Trait Mindfulness, Perceived Stress, and Impulsivity in Understanding the Relationship between Stress Mindset and Psychological Intimate Partner Aggression (714 KB)\">PDF</a>,\n",
       " <a href=\"https://trace.tennessee.edu/utk_graddiss/8749\">The Role of Trait Mindfulness, Perceived Stress, and Impulsivity in Understanding the Relationship between Stress Mindset and Psychological Intimate Partner Aggression</a>,\n",
       " <a aria-label=\"Download PDF of Investigating the cellular foundations of breast muscle myopathies in broiler chickens (3.1 MB)\" href=\"https://trace.tennessee.edu/cgi/viewcontent.cgi?article=9608&amp;context=utk_graddiss\" target=\"_blank\" title=\"Download PDF of Investigating the cellular foundations of breast muscle myopathies in broiler chickens (3.1 MB)\">PDF</a>,\n",
       " <a href=\"https://trace.tennessee.edu/utk_graddiss/8691\">Investigating the cellular foundations of breast muscle myopathies in broiler chickens</a>,\n",
       " <a aria-label=\"Download PDF of Domestic Violence Exposure and Legal System Involvement Experiences of Young Adults: A Retrospective, Intersectional, Qualitative Study (1.1 MB)\" href=\"https://trace.tennessee.edu/cgi/viewcontent.cgi?article=9361&amp;context=utk_graddiss\" target=\"_blank\" title=\"Download PDF of Domestic Violence Exposure and Legal System Involvement Experiences of Young Adults: A Retrospective, Intersectional, Qualitative Study (1.1 MB)\">PDF</a>,\n",
       " <a href=\"https://trace.tennessee.edu/utk_graddiss/8729\">Domestic Violence Exposure and Legal System Involvement Experiences of Young Adults: A Retrospective, Intersectional, Qualitative Study</a>,\n",
       " <a aria-label=\"Download PDF of Broker Conflict of Interest Mitigation Efforts and Mutual Funds: Evidence from the 2016 Department of Labor Fiduciary Rule (1.8 MB)\" href=\"https://trace.tennessee.edu/cgi/viewcontent.cgi?article=9431&amp;context=utk_graddiss\" target=\"_blank\" title=\"Download PDF of Broker Conflict of Interest Mitigation Efforts and Mutual Funds: Evidence from the 2016 Department of Labor Fiduciary Rule (1.8 MB)\">PDF</a>,\n",
       " <a href=\"https://trace.tennessee.edu/utk_graddiss/8125\">Broker Conflict of Interest Mitigation Efforts and Mutual Funds: Evidence from the 2016 Department of Labor Fiduciary Rule</a>,\n",
       " <a aria-label=\"Download PDF of Pointing Control and Stabilization of the High-Energy UV Laser for Laser-Assisted Charge Exchange (24.9 MB)\" href=\"https://trace.tennessee.edu/cgi/viewcontent.cgi?article=9453&amp;context=utk_graddiss\" target=\"_blank\" title=\"Download PDF of Pointing Control and Stabilization of the High-Energy UV Laser for Laser-Assisted Charge Exchange (24.9 MB)\">PDF</a>,\n",
       " <a href=\"https://trace.tennessee.edu/utk_graddiss/8117\">Pointing Control and Stabilization of the High-Energy UV Laser for Laser-Assisted Charge Exchange</a>,\n",
       " <a href=\"https://trace.tennessee.edu/utk_graddiss/index.html\" title=\"Page 1\">\n",
       "           1\n",
       "         </a>,\n",
       " <a href=\"https://trace.tennessee.edu/utk_graddiss/index.2.html\" title=\"Page 2\">\n",
       "           2\n",
       "         </a>,\n",
       " <a href=\"https://trace.tennessee.edu/utk_graddiss/index.3.html\" title=\"Page 3\">\n",
       "           3\n",
       "         </a>,\n",
       " <a href=\"https://trace.tennessee.edu/utk_graddiss/index.4.html\" title=\"Page 4\">\n",
       "           4\n",
       "         </a>,\n",
       " <a href=\"https://trace.tennessee.edu/utk_graddiss/index.5.html\" title=\"Page 5\">\n",
       "           5\n",
       "         </a>,\n",
       " <a href=\"https://trace.tennessee.edu/utk_graddiss/index.6.html\" title=\"Page 6\">\n",
       "           6\n",
       "         </a>,\n",
       " <a href=\"https://trace.tennessee.edu/utk_graddiss/index.7.html\" title=\"Page 7\">\n",
       "           7\n",
       "         </a>,\n",
       " <a class=\"next\" href=\"https://trace.tennessee.edu/utk_graddiss/index.2.html\" title=\"Next Page\">\n",
       " <i class=\"icon-chevron-right\"></i>\n",
       " </a>,\n",
       " <a class=\"last\" href=\"https://trace.tennessee.edu/utk_graddiss/index.84.html\" title=\"Last Page\">\n",
       " <i class=\"icon-chevron-right\"></i><i class=\"icon-chevron-right\"></i>\n",
       " </a>,\n",
       " <a href=\"https://www.lib.utk.edu/\">\n",
       " \t\t\t\t\tUniversity Libraries\n",
       " \t\t\t\t</a>,\n",
       " <a href=\"https://trace.tennessee.edu/do/search/advanced/?fq=virtual_ancestor_link:%22https://trace.tennessee.edu/utk_graddiss%22\">\n",
       " \t\t\tAdvanced Search\n",
       " \t\t</a>,\n",
       " <a href=\"https://trace.tennessee.edu/utk_graddiss/announcements.html\" title=\"Email or RSS Notifications\">\n",
       " \t\t\t\tNotify me of new items via email or <acronym title=\"Really Simple Syndication\">RSS</acronym>\n",
       " </a>,\n",
       " <a href=\"https://trace.tennessee.edu/communities.html\" title=\"Browse by Collections\">Collections</a>,\n",
       " <a href=\"https://trace.tennessee.edu/do/discipline_browser/disciplines\" title=\"Browse by Disciplines\">Disciplines</a>,\n",
       " <a href=\"https://trace.tennessee.edu/authors.html\" title=\"Browse by Author\">Authors</a>,\n",
       " <a href=\"https://trace.tennessee.edu/peer_review_list.html\" title=\"Browse V.O.L. Journal\">V.O.L. Journals</a>,\n",
       " <a href=\"https://trace.tennessee.edu/cgi/ir_submit.cgi?context=utk_graddiss\" title=\"&lt;macro corner_submit\">Submit Your Work</a>,\n",
       " <a href=\"https://www.lib.utk.edu/tracesupport/#Why\" title=\"Why Add Your Work?\">Why Add Your Work?</a>,\n",
       " <a href=\"https://www.lib.utk.edu/tracesupport/#User\" title=\"User Support\">User Support &amp; FAQs</a>,\n",
       " <a href=\"https://trace.tennessee.edu/cgi/myaccount.cgi?context=utk_graddiss\" title=\"My Account\">My Account</a>,\n",
       " <a href=\"https://trace.tennessee.edu/utk_graddiss/guidelines.html\" title=\"Doctoral Dissertations Submission Guidelines\">Submission Guidelines</a>,\n",
       " <a href=\"http://gradschool.utk.edu\" title=\"utk_graddiss Home Page\">\n",
       " \t\t\t\t\t\tGraduate School\n",
       " \t\t\t\t</a>,\n",
       " <a href=\"https://trace.utk.edu/about\" title=\"TRACE Guidelines\">\n",
       " \t\t\t\tTRACE Guidelines\n",
       " \t\t\t\t</a>,\n",
       " <a href=\"https://trace.tennessee.edu/policies.html\" title=\"TRACE Policies\">\n",
       " \t\t\t\tTRACE Policies\n",
       " \t\t\t\t</a>,\n",
       " <a href=\"https://trace.tennessee.edu/contacts.html\" title=\"Contact Trace\">\n",
       " \t\t\t\tContact Us\n",
       " \t\t\t\t</a>,\n",
       " <a href=\"https://www.elsevier.com/solutions/digital-commons\" title=\"Elsevier - Digital Commons\">\n",
       " <em>Elsevier - Digital Commons</em>\n",
       " </a>,\n",
       " <a accesskey=\"1\" href=\"https://trace.tennessee.edu\" title=\"Home page\">Home</a>,\n",
       " <a href=\"https://trace.tennessee.edu/about.html\" title=\"About\">About</a>,\n",
       " <a href=\"https://trace.tennessee.edu/faq.html\" title=\"FAQ\">FAQ</a>,\n",
       " <a accesskey=\"3\" href=\"/cgi/myaccount.cgi?context=utk_graddiss\" title=\"My Account Page\">My Account</a>,\n",
       " <a accesskey=\"0\" href=\"https://trace.tennessee.edu/accessibility.html\" title=\"Accessibility Statement\">Accessibility Statement</a>,\n",
       " <a class=\"secondary-link\" href=\"https://www.bepress.com/privacy\" title=\"Privacy Policy\">Privacy</a>,\n",
       " <a class=\"secondary-link\" href=\"https://www.bepress.com/copyright\" title=\"Copyright Policy\">Copyright</a>]"
      ]
     },
     "execution_count": 13,
     "metadata": {},
     "output_type": "execute_result"
    }
   ],
   "source": [
    "mainpage.find_all(\"a\")"
   ]
  },
  {
   "cell_type": "code",
   "execution_count": 14,
   "metadata": {},
   "outputs": [
    {
     "data": {
      "text/plain": [
       "[<a href=\"https://trace.tennessee.edu/utk_graddiss/8681\">Stability of Quantum Computers</a>,\n",
       " <a href=\"https://trace.tennessee.edu/utk_graddiss/8076\">Understanding host-microbe interactions in maize kernel and sweetpotato leaf metagenomic profiles.</a>,\n",
       " <a href=\"https://trace.tennessee.edu/utk_graddiss/8080\">FABRICATION, MEASUREMENTS, AND MODELING OF SEMICONDUCTOR RADIATION DETECTORS FOR IMAGING AND DETECTOR RESPONSE FUNCTIONS</a>,\n",
       " <a href=\"https://trace.tennessee.edu/utk_graddiss/8086\">Development and Characterization of Stable Low-cost Salt Hydrate-based Phase Change Materials for Thermal Energy Storage Applications</a>,\n",
       " <a href=\"https://trace.tennessee.edu/utk_graddiss/8078\">The Light from Pisgah</a>,\n",
       " <a href=\"https://trace.tennessee.edu/utk_graddiss/8584\">Clickable Lipid Precursors as Chemical Tools for Imaging and Tracking Lipids</a>,\n",
       " <a href=\"https://trace.tennessee.edu/utk_graddiss/8703\">Retinoic Acid, Insulin, and Cycloheximide Alter  Glycogen Homeostasis in Differentiating L6  Myoblasts</a>,\n",
       " <a href=\"https://trace.tennessee.edu/utk_graddiss/8734\">Defining Systemic Change in School Counseling: A Delphi Study</a>,\n",
       " <a href=\"https://trace.tennessee.edu/utk_graddiss/8073\">Investigating the Electrochemical Performance of Biphenyl-Sodium Polysulfide Organic Redox Flow Batteries</a>,\n",
       " <a href=\"https://trace.tennessee.edu/utk_graddiss/8088\">The Disparate Effects of Non-Reliance Restatements on Retail and Institutional Investor Trading</a>,\n",
       " <a href=\"https://trace.tennessee.edu/utk_graddiss/8077\">A HIERARCHICAL PEOPLE-CENTRIC OPERATIONAL EXCELLENCE PERFORMANCE MEASUREMENT SYSTEM TO CREATE AN INTELLIGENT DECISION-MAKING PROCESS IN MANUFACTURING INDUSTRIES</a>,\n",
       " <a href=\"https://trace.tennessee.edu/utk_graddiss/8094\">Nurse Staffing and Staff Nurse Involvement in Hospital Staffing Governance: Explorations of Policy and Practice</a>,\n",
       " <a href=\"https://trace.tennessee.edu/utk_graddiss/8714\">Ruinous Natures: The Approach of Social Timespace</a>,\n",
       " <a href=\"https://trace.tennessee.edu/utk_graddiss/8737\">Implementing the Color Wheel System to Improve Individual Student Behavior and Reduce Repeated Teacher Directions</a>,\n",
       " <a href=\"https://trace.tennessee.edu/utk_graddiss/8074\">Riding the Wave: How Entrepreneurs Respond to Social Movements’ Indirect Spillover Effects</a>,\n",
       " <a href=\"https://trace.tennessee.edu/utk_graddiss/8085\">Explicit Constructions of Canonical and Absolute Minimal Degree Lifts of Twisted Edwards Curves</a>,\n",
       " <a href=\"https://trace.tennessee.edu/utk_graddiss/8082\">Translational Models for Advancement of Regenerative Medicine and Tissue Engineering</a>,\n",
       " <a href=\"https://trace.tennessee.edu/utk_graddiss/8701\">“EVERY DOLLAR COUNTS”: AN EXPLORATION OF THE EXPERIENCES OF STUDENTS PERSISTING IN A FOUR-YEAR, INSTITUTIONAL PROMISE PROGRAM</a>,\n",
       " <a href=\"https://trace.tennessee.edu/utk_graddiss/8706\">\"You're Not Thriving, You're Just Trying to Survive the Environment that You're In:\" Mental Performance Consultants' Narratives of Emotional Abuse in Sport</a>,\n",
       " <a href=\"https://trace.tennessee.edu/utk_graddiss/8700\">The Synthesis and Optimization of Sulfide and Halide Solid Electrolytes for All Solid-State Batteries</a>,\n",
       " <a href=\"https://trace.tennessee.edu/utk_graddiss/8705\">POPULATION ABUNDANCE AND GROWTH OF ELK (CERVUS CANADENSIS) IN WESTERN NORTH CAROLINA</a>,\n",
       " <a href=\"https://trace.tennessee.edu/utk_graddiss/8083\">Multiple Objective Co-Optimization of Switched Reluctance Machine Design and Control</a>,\n",
       " <a href=\"https://trace.tennessee.edu/utk_graddiss/8711\">THE SOCIAL BIBLE: SCRIPTURAL EXCHANGE AND INTERRACIAL FELLOWSHIP IN NINETEENTH-CENTURY AMERICAN LITERATURE</a>,\n",
       " <a href=\"https://trace.tennessee.edu/utk_graddiss/8575\">AN EVALUATION OF EMERGENT AND ESTABLISHED TICK SPECIES AT MULTIPLE GEOGRAPHIC SCALES: COMMUNITY IMPACTS AND ECOLOGICAL PREDICTORS</a>,\n",
       " <a href=\"https://trace.tennessee.edu/utk_graddiss/8092\">An Examination of Trauma-Informed Care in Medical Settings that Serve Mothers with Opioid Use Disorders &amp; their Infants</a>,\n",
       " <a href=\"https://trace.tennessee.edu/utk_graddiss/8081\">Induction and Evasion of Neutrophil Extracellular Traps by Campylobacter jejuni and its Implication in Disease</a>,\n",
       " <a href=\"https://trace.tennessee.edu/utk_graddiss/8604\">Fallen Flesh: Experiencing the Body in the Middle English Lives of Adam and Eve</a>,\n",
       " <a href=\"https://trace.tennessee.edu/utk_graddiss/8087\">On Beliefs \"Worth Risking\" in Plato</a>,\n",
       " <a href=\"https://trace.tennessee.edu/utk_graddiss/8704\">Ethylene Perception and Response in Azospirillum brasilense Sp7</a>,\n",
       " <a href=\"https://trace.tennessee.edu/utk_graddiss/8090\">Counselor Educators’ Engagement in Mental Health Services in Higher Education Institutions</a>,\n",
       " <a href=\"https://trace.tennessee.edu/utk_graddiss/8089\">Methods to Hasten Zoysiagrass Establishment from Sprigs</a>,\n",
       " <a href=\"https://trace.tennessee.edu/utk_graddiss/8079\">Path Integral Monte Carlo for Entanglement in Bosonic Lattices at T = 0</a>,\n",
       " <a href=\"https://trace.tennessee.edu/utk_graddiss/8721\">Hashed Coordinate Sparse Tensor Storage with MATLAB</a>,\n",
       " <a href=\"https://trace.tennessee.edu/utk_graddiss/8084\">An Exploratory Study of the Career Mobility Patterns of African American Women Working in Public Parks and Recreation Agencies</a>,\n",
       " <a href=\"https://trace.tennessee.edu/utk_graddiss/8708\">Using Quantitative Wood Anatomy to Improve Tree-Ring Reconstructions of Climate and Environmental Disturbances</a>,\n",
       " <a href=\"https://trace.tennessee.edu/utk_graddiss/8100\">Mitigating Space Industry Supply Chain Risk  Thru Risk-Based Analysis</a>,\n",
       " <a href=\"https://trace.tennessee.edu/utk_graddiss/8075\">Total Absorption Spectroscopy of Mo-106 and Tc-106</a>,\n",
       " <a href=\"https://trace.tennessee.edu/utk_graddiss/8179\">Increasing Productivity and Biodiversity of Tall Fescue Swards by Intercropping Cool and Warm-Season Forage Species</a>,\n",
       " <a href=\"https://trace.tennessee.edu/utk_graddiss/8160\">Sensitivity Analysis of Thermophysical Properties of Molten Salts using a Molten Salt Demonstration Reactor Model in TRANSFORM</a>,\n",
       " <a href=\"https://trace.tennessee.edu/utk_graddiss/8138\">\"I march to the beat of my own drum\": A critical discourse analysis on mediated construction of Aaron Rodgers' COVID-19 vaccination disclosure</a>,\n",
       " <a href=\"https://trace.tennessee.edu/utk_graddiss/8116\">The Epistemic Value of Resonance: Intuitive Thinking in Theoretical Understanding</a>,\n",
       " <a href=\"https://trace.tennessee.edu/utk_graddiss/8660\">Reduced Order Modeling And Analysis Of Cardiac Chaos</a>,\n",
       " <a href=\"https://trace.tennessee.edu/utk_graddiss/8108\">DEVELOPMENT OF A LOW-DOSE RADIATION THERAPY DEVICE FOR ACUTE RESPIRATORY DISTRESS SYNDROME</a>,\n",
       " <a href=\"https://trace.tennessee.edu/utk_graddiss/8141\">Exploiting Symmetry in Linear and Integer Linear Programming</a>,\n",
       " <a href=\"https://trace.tennessee.edu/utk_graddiss/8098\">Student Choice-of-Text in an Upper Secondary Independent Reading Program: A Quasi-Experimental Study</a>,\n",
       " <a href=\"https://trace.tennessee.edu/utk_graddiss/8145\">Computational Aspects of Mixed Characteristic Witt Vectors and Denominators in Canonical Liftings of Elliptic Curves</a>,\n",
       " <a href=\"https://trace.tennessee.edu/utk_graddiss/8636\">Resiliency of Power Systems in the Cyber Layer: Application to Load Forecasting and Security Assessment</a>,\n",
       " <a href=\"https://trace.tennessee.edu/utk_graddiss/8153\">The Role Of Multiple Object Views In Early Word Learning: A Dynamic Process</a>,\n",
       " <a href=\"https://trace.tennessee.edu/utk_graddiss/8112\">Cell-free Metabolic Engineering Strategies for Accelerated Biomanufacturing</a>,\n",
       " <a href=\"https://trace.tennessee.edu/utk_graddiss/8147\">Leveraging Supply Chain Planning for Improved Supply Chain Performance</a>,\n",
       " <a href=\"https://trace.tennessee.edu/utk_graddiss/8679\">Greenwashing “Brown Gold”: A Critical Analysis of Anaerobic Digesters and California’s Neoliberal Environmental Programs in Wisconsin’s Dairyland</a>,\n",
       " <a href=\"https://trace.tennessee.edu/utk_graddiss/8601\">The G_2-Hitchin Component of Triangle Groups: Dimension and Integer Points</a>,\n",
       " <a href=\"https://trace.tennessee.edu/utk_graddiss/8590\">Developing Spin and Polarization Order in 2D Hybrid Perovskites</a>,\n",
       " <a href=\"https://trace.tennessee.edu/utk_graddiss/8732\">Examining the Relationship Between Lignocellulosic Biomass Structural Constituents and Its Flow Behavior</a>,\n",
       " <a href=\"https://trace.tennessee.edu/utk_graddiss/8151\">Who Gave You Permission to Rearrange Me? Certainly Not Me: Examining the Racialized Nature of Beauty vis-a-vis Colorism, Skin Bleaching, and Life Chance</a>,\n",
       " <a href=\"https://trace.tennessee.edu/utk_graddiss/8110\">Applications of Mathematical and Statistical Modeling to Wildlife Management, Animal Husbandry, and Circadian Physiology</a>,\n",
       " <a href=\"https://trace.tennessee.edu/utk_graddiss/8149\">Firm Transparency of Risk Oversight: An Examination of Cybersecurity Governance Disclosures</a>,\n",
       " <a href=\"https://trace.tennessee.edu/utk_graddiss/8155\">MECHANOCHEMICAL SYNTHESIS OF TASK-SPECIFIC CONJUGATED POROUS NETWORKS TOWARDS ENHANCED ENERGY STORAGE</a>,\n",
       " <a href=\"https://trace.tennessee.edu/utk_graddiss/8735\">Heuristics for Lagrangian Relaxation Formulations for the Unit Commitment Problem</a>,\n",
       " <a href=\"https://trace.tennessee.edu/utk_graddiss/8154\">Protection of Grid-Tied and Islanded Systems  with High Penetration of  Inverter-Based Resources</a>,\n",
       " <a href=\"https://trace.tennessee.edu/utk_graddiss/8168\">Nuclear Thermal Rocket Engine Instrumentation Addressing Environmental Limitations on Temperature Measurements</a>,\n",
       " <a href=\"https://trace.tennessee.edu/utk_graddiss/8745\">Altering Activities to Enhance the Effects of Social Skills Training and Tootling on Elementary Students Performance of Recently-Trained Social Skills</a>,\n",
       " <a href=\"https://trace.tennessee.edu/utk_graddiss/8656\">Thinking Differently Consuming Differently: Exploring Marginalized Gen Z’s Psychological Trauma as a Catalyst to Alternative Consumption During the Covid-Era</a>,\n",
       " <a href=\"https://trace.tennessee.edu/utk_graddiss/8610\">Exploring New Methods for Polymer and Monomer Editing</a>,\n",
       " <a href=\"https://trace.tennessee.edu/utk_graddiss/8109\">IMPROVED SPATIAL RESOLUTION FOR DOUBLE-SIDED STRIP DETECTORS USING LITHIUM INDIUM DISELENIDE SEMICONDUCTORS</a>,\n",
       " <a href=\"https://trace.tennessee.edu/utk_graddiss/8629\">Juvenile Probation Officers’ Lived Experiences of Collaboration with Clinical Mental Health Counselors: An Interpretive Phenomenological Analysis.</a>,\n",
       " <a href=\"https://trace.tennessee.edu/utk_graddiss/8661\">Establishing Alliances: Plant and Microbial Drivers of Microbiome Assembly across Community Complexity and Timescale</a>,\n",
       " <a href=\"https://trace.tennessee.edu/utk_graddiss/8713\">Antimicrobial Resistance and Molecular Epidemiology of Extended-Spectrum Beta-Lactamase-Producing Escherichia coli and Klebsiella Species in Dairy Farms</a>,\n",
       " <a href=\"https://trace.tennessee.edu/utk_graddiss/8136\">Heimat or Hjemland: National Consciousness, Self-Determination, and the First World War in Schleswig-Holstein, 1864-1920</a>,\n",
       " <a href=\"https://trace.tennessee.edu/utk_graddiss/8642\">Evaluation Of SiC Thermomechanical Performance Safety Limits For TRISO With BISON</a>,\n",
       " <a href=\"https://trace.tennessee.edu/utk_graddiss/8624\">Sexual Assault Survivors’ Experiences of Campus Spaces: A Photovoice Study</a>,\n",
       " <a href=\"https://trace.tennessee.edu/utk_graddiss/8189\">Large-scale volcanism on the terrestrial planets</a>,\n",
       " <a href=\"https://trace.tennessee.edu/utk_graddiss/8185\">MULTIDIMENSIONAL INVESTIGATION OF TENNESSEE’S URBAN FOREST</a>,\n",
       " <a href=\"https://trace.tennessee.edu/utk_graddiss/8162\">LARGE DEVIATIONS FOR SELF INTERSECTION LOCAL TIMES OF ORNSTEIN-UHLENBECK PROCESSES</a>,\n",
       " <a href=\"https://trace.tennessee.edu/utk_graddiss/8133\">Climatological Analysis of Tropical Cyclone Occurrence Dates and Landfall Characteristics in the North Atlantic and Eastern North Pacific</a>,\n",
       " <a href=\"https://trace.tennessee.edu/utk_graddiss/8702\">An Exploration of Absolute Minimal Degree Lifts of Hyperelliptic Curves</a>,\n",
       " <a href=\"https://trace.tennessee.edu/utk_graddiss/8175\">Mining Crowdsourced Data for Pavement Maintenance, Incident Management, and Traffic Monitoring</a>,\n",
       " <a href=\"https://trace.tennessee.edu/utk_graddiss/8173\">Monitoring Additive Manufacturing Machine Health</a>,\n",
       " <a href=\"https://trace.tennessee.edu/utk_graddiss/8177\">Synthesizing, Purifying, and Characterizing Molten Chloride Salts</a>,\n",
       " <a href=\"https://trace.tennessee.edu/utk_graddiss/8581\">The Influence of Spectral Quality on Primary and Secondary Metabolism of Hydroponically Grown Basil</a>,\n",
       " <a href=\"https://trace.tennessee.edu/utk_graddiss/8698\">Exploring Wellness Behaviors following a Non-Death Loss Experience:  A Structural Equation Model</a>,\n",
       " <a href=\"https://trace.tennessee.edu/utk_graddiss/8156\">Coefficients of modular forms and applications to partition theory</a>,\n",
       " <a href=\"https://trace.tennessee.edu/utk_graddiss/8113\">Role of kinases and an epigenetically regulated gene in soybean cyst nematode resistance</a>,\n",
       " <a href=\"https://trace.tennessee.edu/utk_graddiss/8183\">Neutrino Physics at a Research Reactor: Backgrounds and Analysis</a>,\n",
       " <a href=\"https://trace.tennessee.edu/utk_graddiss/8731\">Mandated Learning: Administrators' Perceptions of Unfunded Mandates in Online Education</a>,\n",
       " <a href=\"https://trace.tennessee.edu/utk_graddiss/8750\">Responsive Building Envelope for Grid-Interactive Efficient Buildings – Thermal Performance and Control</a>,\n",
       " <a href=\"https://trace.tennessee.edu/utk_graddiss/8748\">Examining the Impact of Course Modality and Course Content Presentation Modality on Undergraduate Grade Outcomes and Course Evaluations</a>,\n",
       " <a href=\"https://trace.tennessee.edu/utk_graddiss/8627\">Precipitation Variability and Predictability over the Arabian Peninsula, Central Southwest Asia, and Southern Africa</a>,\n",
       " <a href=\"https://trace.tennessee.edu/utk_graddiss/8741\">The Impact of Guaranteed Income on Political Participation</a>,\n",
       " <a href=\"https://trace.tennessee.edu/utk_graddiss/8727\">Understanding lignin’s fast pyrolysis through examination of the thermolysis mechanisms of model oligomers</a>,\n",
       " <a href=\"https://trace.tennessee.edu/utk_graddiss/8725\">Medicinal Tea: Global Cultural Transfer and A Vast Early America</a>,\n",
       " <a href=\"https://trace.tennessee.edu/utk_graddiss/8132\">Developments in Hardwood Genomics: The Generation and Application of Molecular Resources for Species Preservation</a>,\n",
       " <a href=\"https://trace.tennessee.edu/utk_graddiss/8097\">Not a Tracing: A Map</a>,\n",
       " <a href=\"https://trace.tennessee.edu/utk_graddiss/8646\">Impacts of High Renewable Power Grids on System Planning and Monitoring</a>,\n",
       " <a href=\"https://trace.tennessee.edu/utk_graddiss/8146\">“Not What I Expected”: A Narrative Inquiry on the Leadership Experiences of Women Campus Recreation Directors in the Power Five Conferences</a>,\n",
       " <a href=\"https://trace.tennessee.edu/utk_graddiss/8749\">The Role of Trait Mindfulness, Perceived Stress, and Impulsivity in Understanding the Relationship between Stress Mindset and Psychological Intimate Partner Aggression</a>,\n",
       " <a href=\"https://trace.tennessee.edu/utk_graddiss/8691\">Investigating the cellular foundations of breast muscle myopathies in broiler chickens</a>,\n",
       " <a href=\"https://trace.tennessee.edu/utk_graddiss/8729\">Domestic Violence Exposure and Legal System Involvement Experiences of Young Adults: A Retrospective, Intersectional, Qualitative Study</a>,\n",
       " <a href=\"https://trace.tennessee.edu/utk_graddiss/8125\">Broker Conflict of Interest Mitigation Efforts and Mutual Funds: Evidence from the 2016 Department of Labor Fiduciary Rule</a>,\n",
       " <a href=\"https://trace.tennessee.edu/utk_graddiss/8117\">Pointing Control and Stabilization of the High-Energy UV Laser for Laser-Assisted Charge Exchange</a>]"
      ]
     },
     "execution_count": 14,
     "metadata": {},
     "output_type": "execute_result"
    }
   ],
   "source": [
    "mainpage.select(\".article-listing a\")"
   ]
  },
  {
   "cell_type": "code",
   "execution_count": 16,
   "metadata": {},
   "outputs": [
    {
     "data": {
      "text/plain": [
       "<a href=\"https://trace.tennessee.edu/utk_graddiss/8681\">Stability of Quantum Computers</a>"
      ]
     },
     "execution_count": 16,
     "metadata": {},
     "output_type": "execute_result"
    }
   ],
   "source": [
    "mainpage.select(\".article-listing a\")[0]"
   ]
  },
  {
   "cell_type": "code",
   "execution_count": 17,
   "metadata": {},
   "outputs": [
    {
     "data": {
      "text/plain": [
       "'https://trace.tennessee.edu/utk_graddiss/8681'"
      ]
     },
     "execution_count": 17,
     "metadata": {},
     "output_type": "execute_result"
    }
   ],
   "source": [
    "mainpage.select(\".article-listing a\")[0].get(\"href\")"
   ]
  },
  {
   "cell_type": "code",
   "execution_count": 19,
   "metadata": {},
   "outputs": [],
   "source": [
    "url_test=mainpage.select(\".article-listing a\")[0].get(\"href\")"
   ]
  },
  {
   "cell_type": "code",
   "execution_count": 20,
   "metadata": {},
   "outputs": [],
   "source": [
    "r_test=requests.get(url_test)"
   ]
  },
  {
   "cell_type": "code",
   "execution_count": 22,
   "metadata": {},
   "outputs": [],
   "source": [
    "dissertpage_test=BeautifulSoup(r_test.content, \"html.parser\")"
   ]
  },
  {
   "cell_type": "code",
   "execution_count": 25,
   "metadata": {},
   "outputs": [
    {
     "data": {
      "text/plain": [
       "[<p>5-2024</p>]"
      ]
     },
     "execution_count": 25,
     "metadata": {},
     "output_type": "execute_result"
    }
   ],
   "source": [
    "dissertpage_test.select(\"#publication_date p\")"
   ]
  },
  {
   "cell_type": "code",
   "execution_count": 26,
   "metadata": {},
   "outputs": [
    {
     "data": {
      "text/plain": [
       "'5-2024'"
      ]
     },
     "execution_count": 26,
     "metadata": {},
     "output_type": "execute_result"
    }
   ],
   "source": [
    "dissertpage_test.select(\"#publication_date p\")[0].text"
   ]
  },
  {
   "cell_type": "code",
   "execution_count": 27,
   "metadata": {},
   "outputs": [],
   "source": [
    "dissertlinks = mainpage.select(\".article-listing a\")"
   ]
  },
  {
   "cell_type": "code",
   "execution_count": 28,
   "metadata": {},
   "outputs": [],
   "source": [
    "urls = []  # We create an empty list before filling it during the loop\n",
    "\n",
    "for link in dissertlinks:\n",
    "    urls.append(link.get(\"href\"))"
   ]
  },
  {
   "cell_type": "code",
   "execution_count": 29,
   "metadata": {},
   "outputs": [
    {
     "data": {
      "text/plain": [
       "['https://trace.tennessee.edu/utk_graddiss/8681',\n",
       " 'https://trace.tennessee.edu/utk_graddiss/8076',\n",
       " 'https://trace.tennessee.edu/utk_graddiss/8080',\n",
       " 'https://trace.tennessee.edu/utk_graddiss/8086',\n",
       " 'https://trace.tennessee.edu/utk_graddiss/8078']"
      ]
     },
     "execution_count": 29,
     "metadata": {},
     "output_type": "execute_result"
    }
   ],
   "source": [
    "urls[:5]"
   ]
  },
  {
   "cell_type": "code",
   "execution_count": 30,
   "metadata": {},
   "outputs": [],
   "source": [
    "ls = []                                            # Create an empty list\n",
    "\n",
    "for url in urls:                                   # For each element of our list of sites\n",
    "    r = requests.get(url)                                     # Send a request to the site\n",
    "    dissertpage = BeautifulSoup(r.text, \"html.parser\")        # Parse the result\n",
    "    date = dissertpage.select(\"#publication_date p\")[0].text  # Get the date\n",
    "    major = dissertpage.select(\"#department p\")[0].text       # Get the major\n",
    "    advisor = dissertpage.select(\"#advisor1 p\")[0].text            # Get the advisor\n",
    "    ls.append((date, major, advisor))                              # Store the results in the list\n",
    "    time.sleep(0.1)                                           # Add a delay at each iteration"
   ]
  },
  {
   "cell_type": "code",
   "execution_count": 31,
   "metadata": {},
   "outputs": [],
   "source": [
    "cols = [\"Date\", \"Major\", \"Advisor\"]"
   ]
  },
  {
   "cell_type": "code",
   "execution_count": 32,
   "metadata": {},
   "outputs": [],
   "source": [
    "df = pd.DataFrame(ls, columns=cols)"
   ]
  },
  {
   "cell_type": "code",
   "execution_count": 33,
   "metadata": {},
   "outputs": [
    {
     "data": {
      "text/html": [
       "<div>\n",
       "<style scoped>\n",
       "    .dataframe tbody tr th:only-of-type {\n",
       "        vertical-align: middle;\n",
       "    }\n",
       "\n",
       "    .dataframe tbody tr th {\n",
       "        vertical-align: top;\n",
       "    }\n",
       "\n",
       "    .dataframe thead th {\n",
       "        text-align: right;\n",
       "    }\n",
       "</style>\n",
       "<table border=\"1\" class=\"dataframe\">\n",
       "  <thead>\n",
       "    <tr style=\"text-align: right;\">\n",
       "      <th></th>\n",
       "      <th>Date</th>\n",
       "      <th>Major</th>\n",
       "      <th>Advisor</th>\n",
       "    </tr>\n",
       "  </thead>\n",
       "  <tbody>\n",
       "    <tr>\n",
       "      <th>0</th>\n",
       "      <td>5-2024</td>\n",
       "      <td>Data Science and Engineering</td>\n",
       "      <td>Travis Humble</td>\n",
       "    </tr>\n",
       "    <tr>\n",
       "      <th>1</th>\n",
       "      <td>5-2023</td>\n",
       "      <td>Life Sciences</td>\n",
       "      <td>Bode A. Olukolu</td>\n",
       "    </tr>\n",
       "    <tr>\n",
       "      <th>2</th>\n",
       "      <td>5-2023</td>\n",
       "      <td>Nuclear Engineering</td>\n",
       "      <td>Erik Lukosi</td>\n",
       "    </tr>\n",
       "    <tr>\n",
       "      <th>3</th>\n",
       "      <td>5-2023</td>\n",
       "      <td>Energy Science and Engineering</td>\n",
       "      <td>Kyle R. Gluesenkamp</td>\n",
       "    </tr>\n",
       "    <tr>\n",
       "      <th>4</th>\n",
       "      <td>5-2023</td>\n",
       "      <td>English</td>\n",
       "      <td>Margaret Lazarus Dean</td>\n",
       "    </tr>\n",
       "    <tr>\n",
       "      <th>...</th>\n",
       "      <td>...</td>\n",
       "      <td>...</td>\n",
       "      <td>...</td>\n",
       "    </tr>\n",
       "    <tr>\n",
       "      <th>95</th>\n",
       "      <td>8-2023</td>\n",
       "      <td>Psychology</td>\n",
       "      <td>Todd M. Moore</td>\n",
       "    </tr>\n",
       "    <tr>\n",
       "      <th>96</th>\n",
       "      <td>8-2023</td>\n",
       "      <td>Animal Science</td>\n",
       "      <td>Brynn H. Voy</td>\n",
       "    </tr>\n",
       "    <tr>\n",
       "      <th>97</th>\n",
       "      <td>8-2023</td>\n",
       "      <td>Child and Family Studies</td>\n",
       "      <td>Megan L. Haselschwerdt</td>\n",
       "    </tr>\n",
       "    <tr>\n",
       "      <th>98</th>\n",
       "      <td>5-2023</td>\n",
       "      <td>Business Administration</td>\n",
       "      <td>Eric Kelley</td>\n",
       "    </tr>\n",
       "    <tr>\n",
       "      <th>99</th>\n",
       "      <td>5-2023</td>\n",
       "      <td>Physics</td>\n",
       "      <td>Yuri Efremenko</td>\n",
       "    </tr>\n",
       "  </tbody>\n",
       "</table>\n",
       "<p>100 rows × 3 columns</p>\n",
       "</div>"
      ],
      "text/plain": [
       "      Date                           Major                 Advisor\n",
       "0   5-2024    Data Science and Engineering           Travis Humble\n",
       "1   5-2023                   Life Sciences         Bode A. Olukolu\n",
       "2   5-2023             Nuclear Engineering             Erik Lukosi\n",
       "3   5-2023  Energy Science and Engineering     Kyle R. Gluesenkamp\n",
       "4   5-2023                         English   Margaret Lazarus Dean\n",
       "..     ...                             ...                     ...\n",
       "95  8-2023                      Psychology           Todd M. Moore\n",
       "96  8-2023                  Animal Science            Brynn H. Voy\n",
       "97  8-2023        Child and Family Studies  Megan L. Haselschwerdt\n",
       "98  5-2023         Business Administration             Eric Kelley\n",
       "99  5-2023                         Physics          Yuri Efremenko\n",
       "\n",
       "[100 rows x 3 columns]"
      ]
     },
     "execution_count": 33,
     "metadata": {},
     "output_type": "execute_result"
    }
   ],
   "source": [
    "df"
   ]
  },
  {
   "cell_type": "code",
   "execution_count": 34,
   "metadata": {},
   "outputs": [],
   "source": [
    "df.to_csv('dissertations_data.csv', index=False)"
   ]
  },
  {
   "cell_type": "code",
   "execution_count": 36,
   "metadata": {},
   "outputs": [
    {
     "data": {
      "text/plain": [
       "'c:\\\\Users\\\\dell\\\\ML project\\\\Log_model'"
      ]
     },
     "execution_count": 36,
     "metadata": {},
     "output_type": "execute_result"
    }
   ],
   "source": [
    "%pwd"
   ]
  }
 ],
 "metadata": {
  "kernelspec": {
   "display_name": "Python 3",
   "language": "python",
   "name": "python3"
  },
  "language_info": {
   "codemirror_mode": {
    "name": "ipython",
    "version": 3
   },
   "file_extension": ".py",
   "mimetype": "text/x-python",
   "name": "python",
   "nbconvert_exporter": "python",
   "pygments_lexer": "ipython3",
   "version": "3.11.6"
  }
 },
 "nbformat": 4,
 "nbformat_minor": 2
}
